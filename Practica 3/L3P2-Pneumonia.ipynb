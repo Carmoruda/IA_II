{
 "cells": [
  {
   "cell_type": "markdown",
   "metadata": {},
   "source": [
    "# Práctica 2 - CNN para clasificar imágenes de Rayos X de neumonía - Lab 2\n",
    "## Preparación de entorno\n",
    "#### Instalar las librerías"
   ]
  },
  {
   "cell_type": "code",
   "execution_count": 74,
   "metadata": {},
   "outputs": [
    {
     "data": {
      "text/plain": [
       "'Instalar pytorch con cuda'"
      ]
     },
     "execution_count": 74,
     "metadata": {},
     "output_type": "execute_result"
    }
   ],
   "source": [
    "\"\"\"Instalar pytorch con cuda\"\"\"\n",
    "#%pip3 install torch torchvision torchaudio --index-url https://download.pytorch.org/whl/cu126"
   ]
  },
  {
   "cell_type": "markdown",
   "metadata": {},
   "source": [
    "#### Importar librerías de código"
   ]
  },
  {
   "cell_type": "code",
   "execution_count": 75,
   "metadata": {},
   "outputs": [],
   "source": [
    "import torch # type: ignore\n",
    "import numpy as np # type: ignore\n",
    "import pandas as pd # type: ignore\n",
    "import torchvision # type: ignore\n",
    "import torch.nn as nn # type: ignore\n",
    "import torch.optim as optim # type: ignore\n",
    "from torchvision import datasets, transforms # type: ignore\n",
    "from torch.utils.data import DataLoader, random_split # type: ignore\n",
    "import matplotlib.pyplot as plt # type: ignore\n",
    "import os\n",
    "\n",
    "os.environ[\"KMP_DUPLICATE_LIB_OK\"] = \"TRUE\"\n"
   ]
  },
  {
   "cell_type": "markdown",
   "metadata": {},
   "source": [
    "## CNN SetUp\n",
    "\n",
    "\n"
   ]
  },
  {
   "cell_type": "markdown",
   "metadata": {},
   "source": [
    "### Preparación Dataset\n",
    "En primer lugar, establecemos las rutas de los datasets"
   ]
  },
  {
   "cell_type": "code",
   "execution_count": 76,
   "metadata": {},
   "outputs": [
    {
     "name": "stdout",
     "output_type": "stream",
     "text": [
      "Rutas cargadas correctamente\n"
     ]
    },
    {
     "name": "stderr",
     "output_type": "stream",
     "text": [
      "<>:15: SyntaxWarning: invalid escape sequence '\\d'\n",
      "<>:15: SyntaxWarning: invalid escape sequence '\\d'\n",
      "C:\\Users\\david\\AppData\\Local\\Temp\\ipykernel_51204\\3902522376.py:15: SyntaxWarning: invalid escape sequence '\\d'\n",
      "  ruta_train1, ruta_test1, subcarpetas1, num_clases1 = preparar_dataset(\".\\data\\chest_xray\")\n"
     ]
    }
   ],
   "source": [
    "def preparar_dataset(ruta_dataset):\n",
    "    ruta_train = os.path.join(ruta_dataset, \"train\")\n",
    "    ruta_test = os.path.join(ruta_dataset, \"test\")\n",
    "\n",
    "    if not os.path.exists(ruta_train) or not os.path.exists(ruta_test):\n",
    "        print(\"Error al encontrar las rutas\")\n",
    "    else:\n",
    "        print(\"Rutas cargadas correctamente\")\n",
    "\n",
    "    subcarpetas = [d for d in os.listdir(ruta_train) if os.path.isdir(os.path.join(ruta_train, d))]\n",
    "    num_clases = len(subcarpetas)\n",
    "\n",
    "    return ruta_train, ruta_test, subcarpetas, num_clases\n",
    "\n",
    "ruta_train1, ruta_test1, subcarpetas1, num_clases1 = preparar_dataset(\".\\data\\chest_xray\")\n"
   ]
  },
  {
   "cell_type": "markdown",
   "metadata": {},
   "source": [
    "Una vez tenemos las rutas establecidas, podemos proceder con el preprocesamiento del dataset. Lo primero que haremos será **normalizar** las imagenes. Para ello, convertiremos las imágenes a tensores (lo que sería convertirlo a matriz), y una vez convertido a tensor, las normalizaremos. Además, como las *etiquetas* de las imagenes vienen definidas por la carpeta en la que están contenidas, utilizaremos el método ImageFolders, el cual asignará la etiqueta a cada imagen **basandose en el nombre de la carpeta**."
   ]
  },
  {
   "cell_type": "code",
   "execution_count": 77,
   "metadata": {},
   "outputs": [],
   "source": [
    "def normalizar_dataset(ruta_train, ruta_test):\n",
    "    transformer = transforms.Compose([\n",
    "        # Convertimos las imágenes a escala de grises (1 canal), y redimensionamos a 100x100 píxeles\n",
    "        transforms.Grayscale(num_output_channels=1),\n",
    "        transforms.Resize((100, 100)),\n",
    "        transforms.ToTensor(),\n",
    "        transforms.Normalize(mean=[0.5], std=[0.5])\n",
    "    ])\n",
    "    train_dataset = datasets.ImageFolder(root=ruta_train, transform=transformer)\n",
    "    test_dataset = datasets.ImageFolder(root=ruta_test, transform=transformer)\n",
    "\n",
    "    val_size = int(0.2 * len(train_dataset))\n",
    "    train_size = len(train_dataset) - val_size\n",
    "\n",
    "    train_subset, val_subset = random_split(train_dataset, [train_size, val_size])\n",
    "\n",
    "    return train_subset, val_subset, test_dataset\n",
    "\n",
    "train_subset1, val_subset1, test_dataset1 = normalizar_dataset(ruta_train1, ruta_test1)\n"
   ]
  },
  {
   "cell_type": "markdown",
   "metadata": {},
   "source": [
    "##### Cuestión 1\n",
    "**Enunciado:**\n",
    "\n",
    "*Explica las funciones y el algoritmo para convertirlas a matrices. ¿Qué es cada matriz?\n",
    "¿Qué tamaños tienen las imágenes? ¿Has normalizado? ¿Cómo y por qué?*\n",
    "\n",
    "**Solución:**\n",
    "\n",
    "Para que nuestra red neuronal pueda trabajar con imágenes en blanco y negro, debemos convertirlas a matrices.\n",
    "\n",
    "A diferencia de las imágenes RGB, esta matriz sólo tendrá una dimensión, ya que carece de color, por lo que se podría decir que estamos trabajando con una escala de grises.\n",
    "\n",
    "Por lo tanto, en este caso tendremos una matriz 100x100 de una dimensión (1, 100, 100).\n",
    "\n",
    "La normalización tiene media de `0.5` y una desviación típica de `0.5`, lo que transforma los valores del rango `[0, 1]` al rango `[-1, 1]`, centrado en el 0, para mejorar la estabilidad y velocidad del entrenamiento."
   ]
  },
  {
   "cell_type": "markdown",
   "metadata": {},
   "source": [
    "A continuación, crearemos los DataLoaders, una estructura de pytorch que nos permitirá dividir los datasets por *lotes*, con el fin de tener un entrenamiento más eficiente."
   ]
  },
  {
   "cell_type": "code",
   "execution_count": null,
   "metadata": {},
   "outputs": [],
   "source": [
    "batch_size = 16\n",
    "\n",
    "def DataLoaders(train_subset, val_subset, test_dataset, batch_size):\n",
    "    train_loader = DataLoader(train_subset, batch_size=batch_size, shuffle=True)\n",
    "    val_loader = DataLoader(val_subset, batch_size=batch_size, shuffle=True)\n",
    "    test_loader = DataLoader(test_dataset, batch_size=batch_size, shuffle=True)\n",
    "\n",
    "    return train_loader, val_loader, test_loader\n",
    "\n",
    "train_loader1, val_loader1, test_loader1 = DataLoaders(train_subset1, val_subset1, test_dataset1, batch_size)\n"
   ]
  },
  {
   "cell_type": "markdown",
   "metadata": {},
   "source": [
    "### Implementación\n",
    "\n",
    "Una vez hemos realizado el preprocesamiento de nuestro dataset, podemos proceder con la arquitectura de nuestra CNN.\n",
    "\n",
    "#### Arquitectura de la CNN\n",
    "La red convolucional tiene la siguiente composición:\n",
    "- **Entrada:** imágenes en escala de grises, redimensionadas a `100x100`\n",
    "- **Capa convolucional 1:** `Conv2D(1 → 4 filtros)` con kernel `3x3`, padding=1 + `ReLU` + `MaxPool2D(2x2)`\n",
    "- **Capa convolucional 2:** `Conv2D(4 → 8)` con kernel `3x3`, padding=1 + `ReLU` + `MaxPool2D(2x2)`\n",
    "- **Capa convolucional 3:** `Conv2D(8 → 16)` con kernel `3x3`, padding=1 + `ReLU` + `MaxPool2D(2x2)`\n",
    "- **Capa densa:** `Linear(16×12×12 → 128)` + `ReLU`\n",
    "- **Salida:** `Linear(128 → Número de clases)`\n",
    "- **Función de activación final:** implícita con `CrossEntropyLoss` (usa softmax internamente)\n",
    "\n",
    "Utilizamos RELU como función de activación, ya que es muy rápida de calcular y evita el problema del vanishing gradient. Además es ideal para activar las características extraídas por los filtros."
   ]
  },
  {
   "cell_type": "code",
   "execution_count": 79,
   "metadata": {},
   "outputs": [],
   "source": [
    "class CNN_PNEUMO(nn.Module):\n",
    "    #Añadimos parámetros, con el fin de probar multiples arquitecturas y encontrar la mejor dentro de un rango\n",
    "    def __init__(self, num_clases, out_channels, conv_kernel_size, pool_kernel_size, hidden_size):\n",
    "        super(CNN_PNEUMO, self).__init__()\n",
    "\n",
    "        self.capa1 = nn.Conv2d(in_channels=1, out_channels=out_channels, kernel_size=conv_kernel_size, stride=1, padding=1)\n",
    "        self.pool1 = nn.MaxPool2d(kernel_size=pool_kernel_size, stride=2, padding=0)\n",
    "\n",
    "        self.capa2 = nn.Conv2d(in_channels=out_channels, out_channels=out_channels*2, kernel_size=conv_kernel_size, stride=1, padding=1)\n",
    "        self.pool2 = nn.MaxPool2d(kernel_size=pool_kernel_size, stride=2, padding=0)\n",
    "\n",
    "        self.capa3 = nn.Conv2d(in_channels=out_channels*2, out_channels=out_channels*4, kernel_size=conv_kernel_size, stride=1, padding=1)\n",
    "        self.pool3 = nn.MaxPool2d(kernel_size=pool_kernel_size, stride=2, padding=0)\n",
    "        \n",
    "        self.relu = nn.ReLU()\n",
    "\n",
    "        #Calculamos de forma dinámica el tamaño de la flattened\n",
    "        self.out_channels = out_channels\n",
    "        self.flattened_size = self._get_flattened_size((1, 100, 100))\n",
    "\n",
    "        self.fc1 = nn.Linear(out_channels*4 * 12 * 12, hidden_size)\n",
    "        self.fc2 = nn.Linear(hidden_size, num_clases)\n",
    "\n",
    "        \n",
    "    #Calculo dinámico del tamaño de la flattened.\n",
    "    def _get_flattened_size(self, input_shape):\n",
    "        with torch.no_grad():\n",
    "            x = torch.zeros(1, *input_shape)\n",
    "            x = self.pool1(self.relu(self.capa1(x)))\n",
    "            x = self.pool2(self.relu(self.capa2(x)))\n",
    "            x = self.pool3(self.relu(self.capa3(x)))\n",
    "            return x.view(1, -1).shape[1]\n",
    "\n",
    "    def forward(self, x):\n",
    "        x = self.pool1(self.relu(self.capa1(x)))\n",
    "        x = self.pool2(self.relu(self.capa2(x)))\n",
    "        x = self.pool3(self.relu(self.capa3(x)))\n",
    "\n",
    "        x = x.view(x.size(0), -1)\n",
    "\n",
    "        x = self.relu(self.fc1(x))\n",
    "        x = self.fc2(x)\n",
    "\n",
    "        return x\n",
    "    "
   ]
  },
  {
   "cell_type": "markdown",
   "metadata": {},
   "source": [
    "Se entrenará el modelo con los siguientes parámetros:\n",
    "\n",
    "- **Optimizador:** `Adam`\n",
    "- **Función de pérdida:** `CrossEntropyLoss`\n",
    "- **Criterio de parada:** `loss ≤ 0.2`\n",
    "- **Número máximo de epochs:** `10`\n",
    "- **Batch size:** `32`\n",
    "\n",
    "El optimizador Adam es ideal ya que es robusto y suele converger más rápidamente que otros optimizadores como por ejemplo SGD.\n",
    "Además, no exige demasiada configuración, lo que simplifica su implementación."
   ]
  },
  {
   "cell_type": "code",
   "execution_count": 80,
   "metadata": {},
   "outputs": [
    {
     "name": "stdout",
     "output_type": "stream",
     "text": [
      "Modelo en: cuda\n"
     ]
    }
   ],
   "source": [
    "device = torch.device('cuda' if torch.cuda.is_available() else 'cpu')\n",
    "\n",
    "criterio = nn.CrossEntropyLoss()\n",
    "\n",
    "torch.cuda.empty_cache()\n",
    "print(f'Modelo en: {device}')\n"
   ]
  },
  {
   "cell_type": "markdown",
   "metadata": {},
   "source": [
    "Después, definimos la función de evaluación, para monitorizar la evolución del modelo en base a las dos tareas propuestas."
   ]
  },
  {
   "cell_type": "code",
   "execution_count": 81,
   "metadata": {},
   "outputs": [],
   "source": [
    "def validacion(model, val_loader, criterio):\n",
    "    model.eval() \n",
    "    correct = 0\n",
    "    total = 0\n",
    "    val_loss = 0.0\n",
    "    \n",
    "    with torch.no_grad():\n",
    "        for inputs, labels in val_loader:\n",
    "            inputs, labels = inputs.to(device), labels.to(device)\n",
    "            outputs = model(inputs)\n",
    "            loss = criterio(outputs, labels)\n",
    "            val_loss += loss.item()\n",
    "            _, predicted = torch.max(outputs, 1)\n",
    "            total += labels.size(0)\n",
    "            correct += (predicted == labels).sum().item()\n",
    "\n",
    "    val_accuracy = 100 * correct / total\n",
    "    return val_loss / len(val_loader), val_accuracy \n"
   ]
  },
  {
   "cell_type": "markdown",
   "metadata": {},
   "source": [
    "###Entrenamiento tarea 1 (tipos de pneumonía)\n",
    "Procedemos a entrenar la red con el dataset de entrenamiento para la tarea de distinguir entre diferentes tipos de pneumonía."
   ]
  },
  {
   "cell_type": "code",
   "execution_count": 82,
   "metadata": {},
   "outputs": [],
   "source": [
    "def entrenamiento(model, optimizer, train_loader, val_loader, epochs):\n",
    "    train_losses = []\n",
    "    train_accuracies = []\n",
    "    val_losses = []\n",
    "    val_accuracies = []\n",
    "\n",
    "    for epoch in range(epochs):\n",
    "        model.train()\n",
    "        running_loss = 0.0\n",
    "        correct = 0\n",
    "        total = 0\n",
    "        for inputs, labels in train_loader:\n",
    "            inputs, labels = inputs.to(device), labels.to(device)\n",
    "\n",
    "            optimizer.zero_grad()\n",
    "            outputs = model(inputs)\n",
    "            loss = criterio(outputs, labels)\n",
    "\n",
    "            loss.backward()\n",
    "            optimizer.step()\n",
    "\n",
    "            running_loss += loss.item()\n",
    "\n",
    "            _, predicted = torch.max(outputs, 1)\n",
    "            total += labels.size(0)\n",
    "            correct += (predicted == labels).sum().item()\n",
    "\n",
    "        epoch_loss = running_loss / len(train_loader)\n",
    "        epoch_accuracy = 100 * correct / total\n",
    "\n",
    "        train_losses.append(epoch_loss)\n",
    "        train_accuracies.append(epoch_accuracy)\n",
    "\n",
    "        print(f\"Epoch [{epoch+1}/{epochs}], Loss: {epoch_loss:.4f}, Accuracy: {epoch_accuracy:.2f}%\")\n",
    "        #if epoch_loss < 0.2:\n",
    "        #    print(f\"Aprendizaje completado. {epoch_loss:.4f} < 0.2\")\n",
    "        #    break\n",
    "        \n",
    "        val_loss, val_accuracy = validacion(model, val_loader, criterio)\n",
    "        val_losses.append(val_loss)\n",
    "        val_accuracies.append(val_accuracy)\n",
    "    \n",
    "    torch.cuda.empty_cache()\n",
    "    return model, train_losses, train_accuracies, val_accuracies, val_losses \n"
   ]
  },
  {
   "cell_type": "markdown",
   "metadata": {},
   "source": [
    "Para obtener el mejor modelo posible, entrenaremos el modelo con distintos learning rates, y con algun retoque de parámetros.\n",
    "\n",
    "Probaremos un rango de learning rates, desde 0.01 hasta 0.0001, y tocaremos los out_channels y los kernel_sizes para obtener el mejor modelo posible."
   ]
  },
  {
   "cell_type": "code",
   "execution_count": 83,
   "metadata": {},
   "outputs": [],
   "source": [
    "def experimentar_parametros(train_loader, val_loader, num_classes, epochs=4):\n",
    "    #Definimos las combinaciones de modelos a probar\n",
    "    combinaciones = [\n",
    "        {'lr': 0.001, 'out_channels': 4, 'kernel_size': 3, 'pool_kernel_size': 2, 'hidden_size': 128},  # Config original\n",
    "        {'lr': 0.0001, 'out_channels': 8, 'kernel_size': 3, 'pool_kernel_size': 2, 'hidden_size': 128},\n",
    "        {'lr': 0.001, 'out_channels': 16, 'kernel_size': 3, 'pool_kernel_size': 2, 'hidden_size': 128},\n",
    "    ]\n",
    "    \n",
    "    resultados = []\n",
    "    modelos = []\n",
    "\n",
    "    \n",
    "    \n",
    "    # Probar cada combinación\n",
    "    for i, config in enumerate(combinaciones):\n",
    "        lr = config['lr']\n",
    "        out_channels = config['out_channels']\n",
    "        kernel_size = config['kernel_size']\n",
    "        pool_kernel_size = config['pool_kernel_size']\n",
    "        hidden_size = config['hidden_size']\n",
    "        \n",
    "        print(f\"\\n[Experimento {i+1}/{len(combinaciones)}]\")\n",
    "        print(f\"Configuración: lr={lr}, out_channels={out_channels}, kernel_size={kernel_size}, \" + \n",
    "              f\"pool_kernel_size={pool_kernel_size}, hidden_size={hidden_size}\")\n",
    "        \n",
    "        #Definimos el modelo con su combinacion correspondiente de parámetros\n",
    "        model = CNN_PNEUMO(\n",
    "            num_classes, \n",
    "            out_channels=out_channels, \n",
    "            conv_kernel_size=kernel_size, \n",
    "            pool_kernel_size=pool_kernel_size,\n",
    "            hidden_size=hidden_size\n",
    "        ).to(device)\n",
    "        \n",
    "        optimizer = optim.Adam(model.parameters(), lr=lr)\n",
    "        \n",
    "        #Entrenamos el modelo\n",
    "        model, train_losses, train_accs, val_accs, val_losses = entrenamiento(\n",
    "            model, optimizer, train_loader, val_loader, epochs=epochs\n",
    "        )\n",
    "        \n",
    "        resultado = {\n",
    "            'lr': lr,\n",
    "            'out_channels': out_channels,\n",
    "            'kernel_size': kernel_size,\n",
    "            'pool_kernel_size': pool_kernel_size,\n",
    "            'hidden_size': hidden_size,\n",
    "            'train_loss_final': train_losses[-1],\n",
    "            'val_loss_final': val_losses[-1],\n",
    "            'train_acc_final': train_accs[-1],\n",
    "            'val_acc_final': val_accs[-1]\n",
    "        }\n",
    "        resultados.append(resultado)\n",
    "        modelos.append(model)\n",
    "    \n",
    "    #Buscamos la mejor combinación, basándonos en el accuraccy y loss de la validación de cada modelo\n",
    "    max_val_acc = max(r['val_acc_final'] for r in resultados)\n",
    "    candidatos = [i for i, r in enumerate(resultados) if r['val_acc_final'] == max_val_acc]\n",
    "    \n",
    "    mejor_idx = min(candidatos, key=lambda i: resultados[i]['val_loss_final'])\n",
    "    \n",
    "    mejor_modelo = modelos[mejor_idx]\n",
    "    mejores_resultados = resultados[mejor_idx]\n",
    "\n",
    "    return mejor_modelo, mejores_resultados"
   ]
  },
  {
   "cell_type": "markdown",
   "metadata": {},
   "source": [
    "### Gráficos de entrenamiento del mejor modelo\n",
    "Definimos la función que mostrará en un plot los resultados obtenidos tanto en el entrenamiento como en la validación del mejor modelo encontrado"
   ]
  },
  {
   "cell_type": "code",
   "execution_count": 84,
   "metadata": {},
   "outputs": [],
   "source": [
    "def graficar_entrenamiento(model, train_losses, train_accuracies, val_accuracies, val_losses):\n",
    "    plt.figure(figsize=(10, 5))\n",
    "    plt.plot(range(1, len(train_losses) + 1), train_losses, label=\"Pérdida de entrenamiento\", color='blue')\n",
    "    plt.plot(range(1, len(val_losses) + 1), val_losses, label=\"Pérdida de validación\", color='red', linestyle='dashed')\n",
    "    plt.title(\"Evolución de la Pérdida durante el Entrenamiento\")\n",
    "    plt.xlabel(\"Época\")\n",
    "    plt.ylabel(\"Pérdida\")\n",
    "    plt.legend()\n",
    "    plt.show()\n",
    "\n",
    "    plt.figure(figsize=(10, 5))\n",
    "    plt.plot(range(1, len(train_accuracies) + 1), train_accuracies, label=\"Precisión de entrenamiento\", color='green')\n",
    "    plt.plot(range(1, len(val_accuracies) + 1), val_accuracies, label=\"Precisión de validación\", color='orange', linestyle='dashed')\n",
    "    plt.title(\"Evolución de la Precisión durante el Entrenamiento\")\n",
    "    plt.xlabel(\"Época\")\n",
    "    plt.ylabel(\"Precisión (%)\")\n",
    "    plt.legend()\n",
    "    plt.show()"
   ]
  },
  {
   "cell_type": "markdown",
   "metadata": {},
   "source": [
    "Una vez definidas todas las funciones, procedemos a entrenar las distintas arquitecturas o experimentos, para encontrar aquel modelo que sea el más eficiente, preciso y con menos error.\n",
    "\n",
    "En primer lugar, buscaremos el mejor modelo para el caso de clasificar entre Normal y Pneumonía."
   ]
  },
  {
   "cell_type": "code",
   "execution_count": 85,
   "metadata": {},
   "outputs": [
    {
     "name": "stdout",
     "output_type": "stream",
     "text": [
      "**************************************\n",
      "\n",
      "Clasificar entre Normal vs Pneumonía\n",
      "**************************************\n",
      "\n",
      "Experimentando con parámetros para el modelo Normal vs Pneumonia:\n",
      "\n",
      "[Experimento 1/3]\n",
      "Configuración: lr=0.001, out_channels=4, kernel_size=3, pool_kernel_size=2, hidden_size=128\n",
      "Epoch [1/4], Loss: 0.2199, Accuracy: 91.25%\n",
      "Epoch [2/4], Loss: 0.1258, Accuracy: 95.38%\n",
      "Epoch [3/4], Loss: 0.0982, Accuracy: 96.33%\n",
      "Epoch [4/4], Loss: 0.0803, Accuracy: 97.22%\n",
      "\n",
      "[Experimento 2/3]\n",
      "Configuración: lr=0.0001, out_channels=8, kernel_size=3, pool_kernel_size=2, hidden_size=128\n",
      "Epoch [1/4], Loss: 0.4272, Accuracy: 80.90%\n",
      "Epoch [2/4], Loss: 0.1488, Accuracy: 94.44%\n",
      "Epoch [3/4], Loss: 0.1208, Accuracy: 95.49%\n",
      "Epoch [4/4], Loss: 0.1109, Accuracy: 95.66%\n",
      "\n",
      "[Experimento 3/3]\n",
      "Configuración: lr=0.001, out_channels=16, kernel_size=3, pool_kernel_size=2, hidden_size=128\n",
      "Epoch [1/4], Loss: 0.1829, Accuracy: 93.15%\n",
      "Epoch [2/4], Loss: 0.0962, Accuracy: 96.43%\n",
      "Epoch [3/4], Loss: 0.0644, Accuracy: 97.72%\n",
      "Epoch [4/4], Loss: 0.0529, Accuracy: 98.13%\n",
      "{'lr': 0.001, 'out_channels': 16, 'kernel_size': 3, 'pool_kernel_size': 2, 'hidden_size': 128, 'train_loss_final': 0.05286621453996098, 'val_loss_final': 0.07171370504304585, 'train_acc_final': 98.13084112149532, 'val_acc_final': 97.12368168744008}\n",
      "Modelo NORMAL vs PNEUMONIA guardado.\n"
     ]
    }
   ],
   "source": [
    "print(\"**************************************\")\n",
    "print(\"\\nClasificar entre Normal vs Pneumonía\")\n",
    "print(\"**************************************\\n\")\n",
    "\n",
    "print(\"Experimentando con parámetros para el modelo Normal vs Pneumonia:\")\n",
    "mejor_modelo_sano_enfermo, resultados1 = experimentar_parametros(\n",
    "    train_loader1, val_loader1, num_clases1\n",
    ")\n",
    "print(resultados1)\n",
    "torch.save(mejor_modelo_sano_enfermo.state_dict(), 'modelo_sano_enfermo.pth')\n",
    "\n",
    "print(\"Modelo NORMAL vs PNEUMONIA guardado.\")\n"
   ]
  },
  {
   "cell_type": "markdown",
   "metadata": {},
   "source": [
    "#### Cuestión 3\n",
    "\n",
    "Para abordar esta pregunta, debemos entrenar un modelo que clasifique tres categorías. Utilizaremos los parámetros obtenidos por el mejor modelo de Normal vs Pneumonía para ahorrar tiempo de entrenamiento.\n",
    "\n",
    "A la hora de realizar dos clasificaciones diferentes, existía la posibilidad de usar un solo modelo que tuviese dos salidas en vez de una, distinguiendo entre tareas. Este modelo tendría dos capas de salida en vez de una sola `self.fc2`. Este método, que a priori parece más eficiente en cuanto a complejidad de código y recursos, se descartó debido a los siguientes motivos:\n",
    "- Disponer de un modelo para cada clasificación provoca que cada modelo pueda especializarse mejor a la tarea asignada. Ambos modelos utilian la misma arquitectura, con la diferencia de que sus salidas difieren.\n",
    "- Mejor flexibilidad por tarea: Al separar los modelos, conseguimos ajustar los hiperparámetros por separado, para encontrar aquellos que mejor se ajusten a cada tarea. Esto facilita encontrar errores que no podríamos detectar si usásemos un solo modelo para ambas tareas.\n",
    "- Disponibilidad de CUDA: Al poder utilizar CUDA, el entrenamiento se finalizaba en cuestión de pocos minutos, por lo que nos podemos permitir realizar dos entrenamientos en vez de uno solo.\n",
    "\n",
    "Por todo ello, se han generalizado las funciones para entrenar dos modelos como si fuesen diferentes, aunque en realidad usen el mismo dataset pero reestructurado de manera diferente.\n",
    "\n",
    "En cuanto a ver cual de las tareas es más fácil, usaremos Matrices de Confusión, y compararemos los resultados de accuraccy y loss para ver cual se comporta mejor.\n",
    "Las *Matrices de Confusión* se utilizan para ver como se comporta un modelo con respecto a las clases que debe encontrar. Sirven para observar de manera visual en qué clases de estan equivocando más los modelos."
   ]
  },
  {
   "cell_type": "markdown",
   "metadata": {},
   "source": [
    "###Entrenamiento de la red que distingue entre pneumonías"
   ]
  },
  {
   "cell_type": "markdown",
   "metadata": {},
   "source": [
    "Esta red será entrenada de la misma forma que el primer modelo, con la diferencia de que su dataset contendrá tres clases o categorías (Normal, Bcteriana, Viral) en vez de dos (Normal, Pneumonía). Usaremos, por tanto, un dataset que contiene los mismos individuos, pero que se ha reorganizado para tener tres subcarpetas en vez de dos.\n",
    "\n",
    "Como hemos generalizado todas las funciones, las volvemos a llamar para entrenar este nuevo modelo."
   ]
  },
  {
   "cell_type": "markdown",
   "metadata": {},
   "source": [
    "Para crear el dataset nuevo, hemos creado una copia del ya existente aplicando este código comentado:"
   ]
  },
  {
   "cell_type": "code",
   "execution_count": 86,
   "metadata": {},
   "outputs": [
    {
     "data": {
      "text/plain": [
       "\"\\nimport shutil\\n\\ndef reorganizar_dataset(base_path):\\n\\n    for split in ['train', 'val', 'test']:\\n        #Nos interesa trabajar con los datos de la carpeta PNEUMONIA\\n        pneumonia_path = os.path.join(base_path, split, 'PNEUMONIA')\\n\\n        #Estas serán las nuevas subcarpetas\\n        viral_path = os.path.join(base_path, split, 'VIRAL')\\n        bacterial_path = os.path.join(base_path, split, 'BACTERIAL')\\n        os.makedirs(viral_path, exist_ok=True)\\n        os.makedirs(bacterial_path, exist_ok=True)\\n\\n        \\n        for img in os.listdir(pneumonia_path):\\n            src = os.path.join(pneumonia_path, img)\\n            #Si aparece la palabra 'virus' en el título de la imagen, la metemos en la subcarpeta VIRAL\\n            if 'virus' in img.lower():\\n                dst = os.path.join(viral_path, img)\\n            else:\\n                #Si no aparece la palabra 'virus' en el título de la imagen, se trata de una imagen bacteriana\\n                # que meteremos en la subcarpeta BACTERIAL\\n                dst = os.path.join(bacterial_path, img)\\n            shutil.move(src, dst)\\n        \\n        #Las imágenes de NORMAL no nos interesa moverlas.\\n        if not os.listdir(pneumonia_path):\\n            os.rmdir(pneumonia_path)\\n\\n#Creamos un nuevo dataset a partir de una copia del original\\nreorganizar_dataset('./chest_xray_copy')\\n\""
      ]
     },
     "execution_count": 86,
     "metadata": {},
     "output_type": "execute_result"
    }
   ],
   "source": [
    "\"\"\"\n",
    "import shutil\n",
    "\n",
    "def reorganizar_dataset(base_path):\n",
    "\n",
    "    for split in ['train', 'val', 'test']:\n",
    "        #Nos interesa trabajar con los datos de la carpeta PNEUMONIA\n",
    "        pneumonia_path = os.path.join(base_path, split, 'PNEUMONIA')\n",
    "\n",
    "        #Estas serán las nuevas subcarpetas\n",
    "        viral_path = os.path.join(base_path, split, 'VIRAL')\n",
    "        bacterial_path = os.path.join(base_path, split, 'BACTERIAL')\n",
    "        os.makedirs(viral_path, exist_ok=True)\n",
    "        os.makedirs(bacterial_path, exist_ok=True)\n",
    "\n",
    "        \n",
    "        for img in os.listdir(pneumonia_path):\n",
    "            src = os.path.join(pneumonia_path, img)\n",
    "            #Si aparece la palabra 'virus' en el título de la imagen, la metemos en la subcarpeta VIRAL\n",
    "            if 'virus' in img.lower():\n",
    "                dst = os.path.join(viral_path, img)\n",
    "            else:\n",
    "                #Si no aparece la palabra 'virus' en el título de la imagen, se trata de una imagen bacteriana\n",
    "                # que meteremos en la subcarpeta BACTERIAL\n",
    "                dst = os.path.join(bacterial_path, img)\n",
    "            shutil.move(src, dst)\n",
    "        \n",
    "        #Las imágenes de NORMAL no nos interesa moverlas.\n",
    "        if not os.listdir(pneumonia_path):\n",
    "            os.rmdir(pneumonia_path)\n",
    "\n",
    "#Creamos un nuevo dataset a partir de una copia del original\n",
    "reorganizar_dataset('./chest_xray_copy')\n",
    "\"\"\""
   ]
  },
  {
   "cell_type": "code",
   "execution_count": 87,
   "metadata": {},
   "outputs": [
    {
     "name": "stdout",
     "output_type": "stream",
     "text": [
      "Rutas cargadas correctamente\n",
      "**************************************\n",
      "\n",
      "Clasificar entre Normal vs Bacterial vs Viral\n",
      "**************************************\n",
      "\n",
      "Experimentando con parámetros para el modelo Normal vs Bacterial vs Viral:\n",
      "\n",
      "[Experimento 1/3]\n",
      "Configuración: lr=0.001, out_channels=4, kernel_size=3, pool_kernel_size=2, hidden_size=128\n"
     ]
    },
    {
     "name": "stderr",
     "output_type": "stream",
     "text": [
      "<>:2: SyntaxWarning: invalid escape sequence '\\d'\n",
      "<>:2: SyntaxWarning: invalid escape sequence '\\d'\n",
      "C:\\Users\\david\\AppData\\Local\\Temp\\ipykernel_51204\\3701412290.py:2: SyntaxWarning: invalid escape sequence '\\d'\n",
      "  ruta_train2, ruta_test2, subcarpetas2, num_clases2 = preparar_dataset(\".\\data\\chest_xray_copy\")\n"
     ]
    },
    {
     "name": "stdout",
     "output_type": "stream",
     "text": [
      "Epoch [1/4], Loss: 0.6632, Accuracy: 70.88%\n",
      "Epoch [2/4], Loss: 0.5415, Accuracy: 76.08%\n",
      "Epoch [3/4], Loss: 0.5090, Accuracy: 77.45%\n",
      "Epoch [4/4], Loss: 0.4853, Accuracy: 78.34%\n",
      "\n",
      "[Experimento 2/3]\n",
      "Configuración: lr=0.0001, out_channels=8, kernel_size=3, pool_kernel_size=2, hidden_size=128\n",
      "Epoch [1/4], Loss: 0.8901, Accuracy: 60.00%\n",
      "Epoch [2/4], Loss: 0.6149, Accuracy: 73.62%\n",
      "Epoch [3/4], Loss: 0.5659, Accuracy: 75.03%\n",
      "Epoch [4/4], Loss: 0.5380, Accuracy: 76.49%\n",
      "\n",
      "[Experimento 3/3]\n",
      "Configuración: lr=0.001, out_channels=16, kernel_size=3, pool_kernel_size=2, hidden_size=128\n",
      "Epoch [1/4], Loss: 0.6355, Accuracy: 71.46%\n",
      "Epoch [2/4], Loss: 0.4969, Accuracy: 78.31%\n",
      "Epoch [3/4], Loss: 0.4612, Accuracy: 79.37%\n",
      "Epoch [4/4], Loss: 0.4195, Accuracy: 81.26%\n",
      "{'lr': 0.001, 'out_channels': 16, 'kernel_size': 3, 'pool_kernel_size': 2, 'hidden_size': 128, 'train_loss_final': 0.4194915267813708, 'val_loss_final': 0.4732770122813456, 'train_acc_final': 81.26048406422238, 'val_acc_final': 78.71524448705657}\n",
      "Modelo NORMAL vs BACTERIAL vs VIRAL guardados\n"
     ]
    }
   ],
   "source": [
    "#Usamos el dataset 'alterado', dividido en subcarpetas diferentes\n",
    "ruta_train2, ruta_test2, subcarpetas2, num_clases2 = preparar_dataset(\".\\data\\chest_xray_copy\")\n",
    "\n",
    "#Normalizamos el dataset nuevo\n",
    "train_subset2, val_subset2, test_dataset2 = normalizar_dataset(ruta_train2, ruta_test2)\n",
    "\n",
    "#Creamos sus respectivos DataLoaders\n",
    "train_loader2, val_loader2, test_loader2 = DataLoaders(train_subset2, val_subset2, test_dataset2, batch_size)\n",
    "\n",
    "print(\"*********************************************\")\n",
    "print(\"Clasificar entre Normal vs Bacterial vs Viral\")\n",
    "print(\"*********************************************\\n\")\n",
    "\n",
    "print(\"Experimentando con parámetros para el modelo Normal vs Bacterial vs Viral:\")\n",
    "mejor_modelo_tipos_pneumo, resultados2 = experimentar_parametros(\n",
    "    train_loader2, val_loader2, num_clases2\n",
    ")\n",
    "print(resultados2)\n",
    "torch.save(mejor_modelo_tipos_pneumo.state_dict(), 'modelo_tipos_pneumo.pth')\n",
    "\n",
    "print(\"Modelo NORMAL vs BACTERIAL vs VIRAL guardados\")\n"
   ]
  },
  {
   "cell_type": "markdown",
   "metadata": {},
   "source": [
    "Una vez tenemos todos los datos, los mostramos en una tabla de comparación. Primero, asignamos los resultados a sus variables, para facilitar el trabajo."
   ]
  },
  {
   "cell_type": "code",
   "execution_count": null,
   "metadata": {},
   "outputs": [],
   "source": [
    "#Asignamos los resultados a sus correspondientes variables.\n",
    "train_losses1 = resultados1['train_loss_final']\n",
    "train_accuracies1 = resultados1['train_acc_final']\n",
    "val_losses1 = resultados1['val_loss_final']\n",
    "val_accuracies1 = resultados1['val_acc_final']\n",
    "\n",
    "train_losses2 = resultados2['train_loss_final']\n",
    "train_accuracies2 = resultados2['train_acc_final']\n",
    "val_losses2 = resultados2['val_loss_final']\n",
    "val_accuracies2 = resultados2['val_acc_final']\n"
   ]
  },
  {
   "cell_type": "markdown",
   "metadata": {},
   "source": [
    "Veamos que tal predice cada modelo, para decidirnos por cual de los dos es más fácil y preciso. Utilizaremos para ello la matriz de confusión, para ver el grado de acierto de cada modelo."
   ]
  },
  {
   "cell_type": "code",
   "execution_count": null,
   "metadata": {},
   "outputs": [
    {
     "name": "stdout",
     "output_type": "stream",
     "text": [
      "********************************************\n",
      "Evaluación del Modelo de Normal vs PNEUMONIA\n",
      "********************************************\n",
      "\n",
      "Accuracy en test: 0.7436\n",
      "['NORMAL', 'PNEUMONIA']\n"
     ]
    },
    {
     "data": {
      "image/png": "[encoded data removed]",
      "text/plain": [
       "<Figure size 600x500 with 2 Axes>"
      ]
     },
     "metadata": {},
     "output_type": "display_data"
    },
    {
     "name": "stdout",
     "output_type": "stream",
     "text": [
      "Accuracy en test: 0.7260\n",
      "['BACTERIAL', 'NORMAL', 'VIRAL']\n"
     ]
    },
    {
     "data": {
      "image/png": "[encoded data removed]",
      "text/plain": [
       "<Figure size 600x500 with 2 Axes>"
      ]
     },
     "metadata": {},
     "output_type": "display_data"
    }
   ],
   "source": [
    "from sklearn.metrics import accuracy_score, confusion_matrix\n",
    "import seaborn as sns\n",
    "\n",
    "def evaluate_model(model, test_loader, device, test_dataset):\n",
    "    model.eval()\n",
    "    y_true = []\n",
    "    y_pred = []\n",
    "\n",
    "    with torch.no_grad():\n",
    "        for images, labels in test_loader:\n",
    "            images = images.to(device)\n",
    "            labels = labels.to(device)\n",
    "\n",
    "            outputs = model(images)\n",
    "            _, predicted = torch.max(outputs, 1)\n",
    "\n",
    "            y_true.extend(labels.cpu().numpy())\n",
    "            y_pred.extend(predicted.cpu().numpy())\n",
    "\n",
    "    acc = accuracy_score(y_true, y_pred)\n",
    "    cm = confusion_matrix(y_true, y_pred)\n",
    "\n",
    "    print(f\"Accuracy en test: {acc:.4f}\")\n",
    "    #Visualizamos la matriz de confusión\n",
    "    plt.figure(figsize=(6, 5))\n",
    "    sns.heatmap(cm, annot=True, fmt=\"d\", cmap=\"Blues\", xticklabels=test_dataset.classes, yticklabels=test_dataset.classes)\n",
    "    plt.xlabel(\"Predicción\")\n",
    "    plt.ylabel(\"Verdadero\")\n",
    "    plt.title(\"Matriz de confusión\")\n",
    "    plt.show()\n",
    "\n",
    "    return y_true, y_pred\n",
    "print(\"********************************************\")\n",
    "print(\"Evaluación del Modelo de Normal vs PNEUMONIA\")\n",
    "print(\"********************************************\\n\")\n",
    "y_true1, y_pred1 = evaluate_model(mejor_modelo_sano_enfermo, test_loader1, device, test_dataset1)\n",
    "y_true1, y_pred1 = evaluate_model(mejor_modelo_tipos_pneumo, test_loader2, device, test_dataset2)\n"
   ]
  },
  {
   "cell_type": "markdown",
   "metadata": {},
   "source": [
    "##Conclusiones\n",
    "\n",
    "Observando los resultados, podemos afirmar que el modelo de detectar si estas sano o no es mucho más fácil, preciso y eficiente que el de detectar entre si estas sano, tienes pneumonía bacterial o pneumonía viral. Nos hemos apoyado tanto en los resultados y la matriz de confusión, como en la propia biología.\n",
    "\n",
    "A un médico real no le supone esfuerzo alguno detectar si una persona está sana o tiene algun tipo de pneumonía, ya que un pulmón sano no tiene ningún tipo de perturbación en las imágenes de rayos x. Sin embargo, a la hora de distinguir entre tipos de pneumonía, un médico suele fallar la mayoría de las veces. Esto se debe a queambos tipos comparten similitudes, y a veces es muy dificil diferenciarlos.\n",
    "\n",
    "Creemos que el modelo también, de algún modo, encuentra estas dificultades a la hora de clasificar.\n",
    "\n",
    "En la evaluación, vemos como el primer modelo falla demasiado a la hora de clasificar los individuos con Pneumpnía, mientras que en el segundo modelo"
   ]
  },
  {
   "cell_type": "markdown",
   "metadata": {},
   "source": [
    "###Cuestion 4\n",
    "\n",
    "En el caso de que nos encontremos con una escasez de imágenes que posiblemente provoque overfitting en nuestro modelo, podemos utilizar varias técnicas. Es muy común en medicina verse afectado por este problema. \n",
    "\n",
    "Para resolverlo, vamos a utilizar el llamado 'Data Augmentation', que consiste en añadir más imágenes que simplemente son variaciones de las ya existentes. Se pueden girar, dar la vuelta, redimensionar o cambiar de color, con el fin de hacer creer al modelo que es una imagen nueva, reforzando así su capacidad de generalizar.\n",
    "\n",
    "Vemos que, según los resultados sobre todo del primer modelo (Sano o Enfermo), los resultados son excesivamente perfectos, lo que puede significar que hemos caído en el overfitting. Para arreglar este problema, utilizaremos un transformador, para añadir más imágenes al dataset como ya hemos explicado anteriormente.\n",
    "\n",
    "Si esta técnica no resulta efectiva, aplicaremos dropout, apagando aleatoriamente algunas neuronas durante el entrenamiento para lograr que el modelo aprenda \"con un ojo tapado\"."
   ]
  }
 ],
 "metadata": {
  "kernelspec": {
   "display_name": "base",
   "language": "python",
   "name": "python3"
  },
  "language_info": {
   "codemirror_mode": {
    "name": "ipython",
    "version": 3
   },
   "file_extension": ".py",
   "mimetype": "text/x-python",
   "name": "python",
   "nbconvert_exporter": "python",
   "pygments_lexer": "ipython3",
   "version": "3.12.4"
  }
 },
 "nbformat": 4,
 "nbformat_minor": 2
}
