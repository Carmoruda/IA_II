{
 "cells": [
  {
   "cell_type": "markdown",
   "metadata": {},
   "source": [
    "# Práctica 3 - CNN para clasificar imágenes de frutas - Lab 1\n",
    "## Preparación de entorno\n",
    "#### Instalar las librerías"
   ]
  },
  {
   "cell_type": "code",
   "execution_count": null,
   "metadata": {},
   "outputs": [],
   "source": [
    "#%pip install numpy\n",
    "#%pip install pandas\n",
    "#%pip install matplotlib\n",
    "#%pip install pytorch"
   ]
  },
  {
   "cell_type": "markdown",
   "metadata": {},
   "source": [
    "#### Importar librerías de código"
   ]
  },
  {
   "cell_type": "code",
   "execution_count": null,
   "metadata": {},
   "outputs": [],
   "source": []
  },
  {
   "cell_type": "markdown",
   "metadata": {},
   "source": [
    "## CNN SetUp\n",
    "* **Red convolucional secuencial (CNN secuencial)** $\\rightarrow$ Tipo de red neuronal convolucional diseñada utilizando un modelo secuenncial (una pila lineal de capas donde cada capa recibe la salida de la capa anterior como entrada).\n",
    "  * **Convolución** $\\rightarrow$ Operación matemática que combina dos funciones para producir una tercera función. En el contexto de las CNN, se utiliza para extraer características de las imágenes.\n",
    "  * **Capas** $\\rightarrow$ Capas de convolución, activación, pooling y completamente conectadas (fully connected).\n",
    "  * Recibe **varias entradas** (como señales), cada una con un peso que indica su importancia.\n",
    "\n",
    "* Componentes principales de una CNN secuencial:\n",
    "  * **Capas convolucionales** $\\rightarrow$ Aplican filtros para extraer características relevantes de las imágenes, como bordes, texturas o patrones. El tamaño y número de filtros son hiperparámetros que definimos nosotros.\n",
    "  * **Funciones de activación** $\\rightarrow$ Generalmente, se utiliza *ReLU* para introducir no linealidad en las capas intermedias, mientras que *Softmax* se utiliza en la capa de salida para problemas de clasificación multiclase.\n",
    "  * **Capas de pooling** $\\rightarrow$ Reducen las dimensiones espaciales (alto y ancho) de las características manteniendo las más relevantes. Esto disminuye el coste computacional y nos ayuda a prevenir el sobreajuste.\n",
    "  * **Capas completamente conectadas** $\\rightarrow$ Al final, las características que hemos extraído las aplanamos y las pasamos a una o más capas densas (completamente conectadas) para hacer la clasificación final.\n",
    "  * **Optimizador y fución de pérdida** $\\rightarrow$ Utilizamos *RMSprop* como optimizador y *categorical_crossentropy* como función de pérdida para problemas de clasificación multiclase. Estos son hiperparámetros que podemos ajustar según nuestras necesidades.\n",
    "\n",
    "<img src=\"./media/Estructura cnn.jpg\" width=\"70%\" style=\"display: block; margin: 0 auto;\"/>\n",
    "\n",
    "<img src=\"./media/Arquitectura cnn.jpg\" width=\"70%\" style=\"display: block; margin: 0 auto; padding-top: 15px;\"/>\n",
    "\n",
    "* Aplicaciones de las redes convolucionales:\n",
    "  * **Clasificación de imágenes** $\\rightarrow$ Identificar objetos en imágenes, como en nuestro caso (clasificar frutas).\n",
    "  * **Detección de objetos** $\\rightarrow$ Localizar y clasificar múltiples objetos en una imagen.\n",
    "  * **Segmentación de imágenes** $\\rightarrow$ Dividir una imagen en regiones significativas, como identificar diferentes partes de una imagen médica.\n",
    "  * **Reconocimiento facial** $\\rightarrow$ Identificar y verificar caras en imágenes o videos.\n",
    "  * **Procesamiento de video** $\\rightarrow$ Analizar secuencias temporales como en coches autónomos o vigilancia.\n",
    "  * **Generación de imágenes** $\\rightarrow$ Crear imágenes nuevas a partir de datos existentes, como en el caso de *GANs* (Generative Adversarial Networks).\n",
    "  * **Reconocimietnto de texto** $\\rightarrow$ Extraer texto de imágenes (OCR).\n",
    "\n",
    "**Referencias**\n",
    "* [Convolutional neural network - ScienceDirect](https://www.sciencedirect.com/topics/computer-science/convolutional-neural-network)."
   ]
  },
  {
   "cell_type": "code",
   "execution_count": null,
   "metadata": {},
   "outputs": [],
   "source": []
  }
 ],
 "metadata": {
  "kernelspec": {
   "display_name": "IA_II",
   "language": "python",
   "name": "python3"
  },
  "language_info": {
   "codemirror_mode": {
    "name": "ipython",
    "version": 3
   },
   "file_extension": ".py",
   "mimetype": "text/x-python",
   "name": "python",
   "nbconvert_exporter": "python",
   "pygments_lexer": "ipython3",
   "version": "3.13.2"
  }
 },
 "nbformat": 4,
 "nbformat_minor": 2
}
