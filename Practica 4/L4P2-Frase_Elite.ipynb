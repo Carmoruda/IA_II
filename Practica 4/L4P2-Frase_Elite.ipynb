{
 "cells": [
  {
   "cell_type": "markdown",
   "id": "1f18d625",
   "metadata": {},
   "source": [
    "# Práctica 4 - AG frases en castellano con mutaciones y elitismo - Lab 2\n",
    "## Preparación de entorno\n",
    "#### Instalar las librerías"
   ]
  },
  {
   "cell_type": "code",
   "execution_count": null,
   "id": "cd3ce0bd",
   "metadata": {
    "vscode": {
     "languageId": "plaintext"
    }
   },
   "outputs": [],
   "source": []
  },
  {
   "cell_type": "markdown",
   "id": "954a59a6",
   "metadata": {},
   "source": [
    "#### Importar librerías de código"
   ]
  },
  {
   "cell_type": "code",
   "execution_count": null,
   "id": "90495a6a",
   "metadata": {
    "vscode": {
     "languageId": "plaintext"
    }
   },
   "outputs": [],
   "source": []
  },
  {
   "cell_type": "markdown",
   "id": "ca8230fa",
   "metadata": {},
   "source": [
    "## Algoritmo genético SetUp"
   ]
  }
 ],
 "metadata": {
  "language_info": {
   "name": "python"
  }
 },
 "nbformat": 4,
 "nbformat_minor": 5
}
