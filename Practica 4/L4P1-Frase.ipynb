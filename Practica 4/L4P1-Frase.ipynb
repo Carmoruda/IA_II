{
 "cells": [
  {
   "cell_type": "markdown",
   "id": "54a1c4f6",
   "metadata": {},
   "source": [
    "# Práctica 4 - AG frases en castellano con mutaciones - Lab 1\n",
    "## Preparación de entorno\n",
    "#### Instalar las librerías"
   ]
  },
  {
   "cell_type": "code",
   "execution_count": null,
   "id": "afa1b2d6",
   "metadata": {
    "vscode": {
     "languageId": "plaintext"
    }
   },
   "outputs": [],
   "source": []
  },
  {
   "cell_type": "markdown",
   "id": "20d4ae60",
   "metadata": {},
   "source": [
    "#### Importar librerías de código"
   ]
  },
  {
   "cell_type": "code",
   "execution_count": null,
   "id": "1571992b",
   "metadata": {
    "vscode": {
     "languageId": "plaintext"
    }
   },
   "outputs": [],
   "source": []
  },
  {
   "cell_type": "markdown",
   "id": "e744bd92",
   "metadata": {},
   "source": [
    "## Algoritmo genético SetUp\n",
    "\n",
    "* **Algoritmos genéticos (GA)** $\\rightarrow$ Clasae de algoritmos de optimización basados en los principios de la selección natural y la genética, introducidos por John Holland en 1975. El proceso de un algortimo genético puede descomponerse en los siguientes pasos:\n",
    "\n",
    "    * **Inicialización de la población:** Se genera un conjunto inicial de soluciones candidata, que se denominan individuos o cromosomas. Cada individuo representa una posible solución al problema y puede representare como una cade binaria, una secuencia de números reales, o, en nuestro caso, una cadena de caracteres.\n",
    "    \n",
    "    * **Evaluación de la aptitud:** Cada individuo se evalúa mediante una función de aptitud (*fitness function*), que mide qué tan buena es la solución. \n",
    "    \n",
    "    * **Selección:** Se eligen los individuos más aptos para ser padres de la siguiente generación. Entre los métodos comunes incluyen selección por ruleta, torneo y selección por ranking. Esto básicamente simula la selección natural, donde los individuos más fuertes tienen más probabilidades de reproducirse.\n",
    "\n",
    "    * **Cruce (crossover):** Los padres seleccionados se combinan para generar nuevos individuos (hijos). Esto puede hacerse mediante técnicas como el cruce de un punto, donde se intercambian partes de los cromosomas de los padre, o cruce uniforme, dependiendo del problema.\n",
    "\n",
    "    * **Mutación:** Se introducen cambios aleatorios en los individuos con una probabilidad dada (tasa de mutación). La mutación ayuda a mantener la diversidad en la población y evitar el estancamiento en óptimos locales, un problema común en los algoritmos genéticos.\n",
    "\n",
    "    * **Repetición:** Los pasos de selección, cruce y mutación se repiten durante un número fijo de generaciones o hasta que se cumpla un criterio de parada, como alcanzar un nivel de aptitud deseado o un número máximo de generaciones.\n",
    "\n",
    "\n",
    "<img src=\"./media/Flow_diagram.jpg\" width=\"30%\" style=\"display: block; margin: 0 auto;\"/>\n",
    "\n",
    "<img src=\"./media/Ejemplo_algoritmo_genetico.jpg\" width=\"80%\" style=\"display: block; margin: 0 auto; padding-top: 15px;\"/>\n",
    "\n",
    "* Aplicaciones de los algoritmos genéticos:\n",
    "  * **Optimización** $\\rightarrow$ Planificación de rutas (problema del viajante), asignación de recursos, optimización de funciones, etc.\n",
    "\n",
    "  * **Inteligencia artificial** $\\rightarrow$ Ajuste de hiperparámetros, entrenamiento de redes neuronales, optimización de arquitecturas.\n",
    "\n",
    "  * **Ingeniería** $\\rightarrow$ Diseño de sistemas aerodinámicos, optimización de circuitos electrónicos, diseño estructural.\n",
    "\n",
    "  * **Bioinformática** $\\rightarrow$ Alineamiento de secuencias de ADN, predicción de estructuras proteicas, análisis genético.\n",
    "\n",
    "  * **Finanzas** $\\rightarrow$ Optimización de carteras, análisis de riesgos, predicci´no de mercados financieros.\n",
    "\n",
    "  * **Robótica** $\\rightarrow$ Planificación de trayectorias, control de movimientos, optimización de tareas.\n",
    "\n",
    "  * **Juegos** $\\rightarrow$ Desarrollo de estrategis para juegos como el ajedrez, optimización de agenetes en videojuegos.\n",
    "\n",
    "  * **Procesamiento de Lenguaje Natural:** Optimización de modelos de traducción, análisis de sentimientos, generación de texto."
   ]
  },
  {
   "cell_type": "code",
   "execution_count": null,
   "id": "2c1714b1",
   "metadata": {
    "vscode": {
     "languageId": "plaintext"
    }
   },
   "outputs": [],
   "source": []
  }
 ],
 "metadata": {
  "language_info": {
   "name": "python"
  }
 },
 "nbformat": 4,
 "nbformat_minor": 5
}
