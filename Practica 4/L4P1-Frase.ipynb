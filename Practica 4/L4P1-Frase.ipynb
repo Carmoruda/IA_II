{
 "cells": [
  {
   "cell_type": "markdown",
   "id": "54a1c4f6",
   "metadata": {},
   "source": [
    "# Práctica 4 - AG frases en castellano con mutaciones - Lab 1\n",
    "## Preparación de entorno\n",
    "#### Instalar las librerías"
   ]
  },
  {
   "cell_type": "code",
   "execution_count": null,
   "id": "afa1b2d6",
   "metadata": {
    "vscode": {
     "languageId": "plaintext"
    }
   },
   "outputs": [],
   "source": []
  },
  {
   "cell_type": "markdown",
   "id": "20d4ae60",
   "metadata": {},
   "source": [
    "#### Importar librerías de código"
   ]
  },
  {
   "cell_type": "code",
   "execution_count": null,
   "id": "1571992b",
   "metadata": {
    "vscode": {
     "languageId": "plaintext"
    }
   },
   "outputs": [],
   "source": []
  },
  {
   "cell_type": "markdown",
   "id": "e744bd92",
   "metadata": {},
   "source": [
    "## Algoritmo genético SetUp\n"
   ]
  }
 ],
 "metadata": {
  "language_info": {
   "name": "python"
  }
 },
 "nbformat": 4,
 "nbformat_minor": 5
}
