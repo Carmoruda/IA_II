{
 "cells": [
  {
   "cell_type": "markdown",
   "metadata": {},
   "source": [
    "# Práctica 2 - MLP para funciones lógicas - Lab 2\n",
    "## Preparación de entorno\n",
    "#### Instalar las librerías"
   ]
  },
  {
   "cell_type": "code",
   "execution_count": 396,
   "metadata": {},
   "outputs": [],
   "source": [
    "#%pip install torch torchvision pandas matplotlib"
   ]
  },
  {
   "cell_type": "markdown",
   "metadata": {},
   "source": [
    "#### Importar librerías de código"
   ]
  },
  {
   "cell_type": "code",
   "execution_count": 397,
   "metadata": {},
   "outputs": [],
   "source": [
    "import torch # type: ignore\n",
    "import torch.nn as nn # type: ignore\n",
    "import torch.optim as optim # type: ignore\n",
    "from sklearn.metrics import f1_score # type: ignore\n",
    "from sklearn.preprocessing import StandardScaler, MinMaxScaler # type: ignore\n",
    "import pandas as pd # type: ignore\n",
    "import random\n",
    "import numpy as np # type: ignore\n",
    "import matplotlib.pyplot as plt # type: ignore\n",
    "from torch.utils.data import DataLoader, TensorDataset, random_split # type: ignore"
   ]
  },
  {
   "cell_type": "markdown",
   "metadata": {},
   "source": [
    "### Preparación de los datos de entrenamiento\n"
   ]
  },
  {
   "cell_type": "markdown",
   "metadata": {},
   "source": [
    "En primer lugar, importaremos nuestro dataset con pandas, con el fin de crear un dataframe que nos permita trabajar con los datos de forma más cómoda."
   ]
  },
  {
   "cell_type": "code",
   "execution_count": 398,
   "metadata": {},
   "outputs": [],
   "source": [
    "df_train = pd.read_csv(\"data/got_train.csv\", usecols=['male', 'isMarried', 'isNoble', 'numDeadRelations', 'isPopular', 'book1','book2','book3','book4','book5', 'alive'])"
   ]
  },
  {
   "cell_type": "markdown",
   "metadata": {},
   "source": [
    "Una vez tenemos el dataset con las columnas necesarias, dividiremos los datos entre las carácterísticas de entrenamiento y el atributo objetivo, que en este caso es *alive*."
   ]
  },
  {
   "cell_type": "code",
   "execution_count": 399,
   "metadata": {},
   "outputs": [],
   "source": [
    "# Características del entrenamiento\n",
    "x_train = df_train[['male', 'isMarried', 'isNoble', 'numDeadRelations', 'isPopular', 'book1', 'book2', 'book3', 'book4', 'book5']]\n",
    "# Objetivo\n",
    "y_train = df_train['alive']\n",
    "scaler = MinMaxScaler()\n",
    "x_train_scaled = scaler.fit_transform(x_train)\n"
   ]
  },
  {
   "cell_type": "markdown",
   "metadata": {},
   "source": [
    "Antes de pasar con la definición del modelo, debemos convertir nuestros datos a tensores, de tal manera que podamos trabajar con ellos en PyTorch.  \n",
    "En el caso del target, al ser un dataset unidimensional, debemos transformarlo a una matriz de una columna y n filas para que sea compatible con las funciones de pérdida y del modelo que usaremos posteriormente."
   ]
  },
  {
   "cell_type": "code",
   "execution_count": 400,
   "metadata": {},
   "outputs": [],
   "source": [
    "x_train_tensor = torch.tensor(x_train_scaled, dtype= torch.float32)\n",
    "y_train_tensor = torch.tensor(y_train.values, dtype= torch.float32).view(-1, 1)"
   ]
  },
  {
   "cell_type": "markdown",
   "metadata": {},
   "source": [
    "## MLP SetUp"
   ]
  },
  {
   "cell_type": "markdown",
   "metadata": {},
   "source": [
    "Una vez hemos preparado nuestros datos de entrenamiento, procederemos con la definición de nuestro modelo. Para ello, empezaremos definiendo los hiperparámetros."
   ]
  },
  {
   "cell_type": "code",
   "execution_count": 401,
   "metadata": {},
   "outputs": [],
   "source": [
    "input_size = x_train_tensor.shape[1] # Número de características de entrada que va a usar el modelo.\n",
    "hidden_size = 512 # Número de neuronas de la capa oculta\n",
    "output_size = 1 # Número de nueronas de salida. Ponemos 1 porque va a ser una clasificación binaria (vivo/muerto)\n",
    "\n",
    "batch_size = 64\n",
    "learning_rate = 0.001\n",
    "num_epochs = 150\n",
    "validation_split = 0.2 \n",
    "\n",
    "torch.manual_seed(42)\n",
    "np.random.seed(42)\n",
    "random.seed(42)"
   ]
  },
  {
   "cell_type": "markdown",
   "metadata": {},
   "source": [
    "Con los hiperparámetros definidos, podemos crear nuestro modelo MLP."
   ]
  },
  {
   "cell_type": "code",
   "execution_count": 402,
   "metadata": {},
   "outputs": [],
   "source": [
    "class RedNeuronalGot(nn.Module):\n",
    "    def __init__(self, input_size, hidden_size, output_size):\n",
    "        super(RedNeuronalGot, self).__init__()\n",
    "        # Capas de la red\n",
    "        self.capa1 = nn.Linear(input_size, hidden_size)\n",
    "        self.capa2 = nn.Linear(hidden_size, hidden_size*2)\n",
    "        self.capa3 = nn.Linear(hidden_size*2, hidden_size)\n",
    "        self.capa4 = nn.Linear(hidden_size, output_size)\n",
    "\n",
    "        #Función de activación\n",
    "        self.relu = nn.ReLU()\n",
    "        #Función de activación para la capa de salida (binaria)\n",
    "        self.sigmoid = nn.Sigmoid()\n",
    "        # Establecemos un dropout para evitar que no hayan neuronas que acaben siendo insignificantes\n",
    "        self.dropout = nn.Dropout(0.2)\n",
    "\n",
    "    def forward(self, x):\n",
    "        x = self.relu(self.capa1(x))\n",
    "        x = self.dropout(x)\n",
    "        x = self.relu(self.capa2(x))\n",
    "        x = self.dropout(x)\n",
    "        x = self.relu(self.capa3(x))\n",
    "        x = self.dropout(x)\n",
    "        x = self.capa4(x)\n",
    "        x = self.sigmoid(x)  # Aplicamos Sigmoid para obtener un valor entre 0 y 1\n",
    "        return x"
   ]
  },
  {
   "cell_type": "markdown",
   "metadata": {},
   "source": [
    "En este caso, hemos decidido utilizar la función de activación Relu para las capas intermedias, y para la capa de salida, la sigmoidea, ya que nos va a sacar siempre un valor entre 0 y 1, que es lo que nos interesa a nosotros para nuestra predicción.  \n",
    "\n",
    "A continuación, dividiremos los datos de entrenamiento y los de validación."
   ]
  },
  {
   "cell_type": "code",
   "execution_count": 403,
   "metadata": {},
   "outputs": [],
   "source": [
    "dataset = TensorDataset(x_train_tensor, y_train_tensor)\n",
    "dataset_size = len(x_train_tensor)\n",
    "validation_size = int(validation_split * dataset_size)\n",
    "train_size = dataset_size - validation_size\n",
    "\n",
    "train_dataset, val_dataset = random_split(dataset, [train_size, validation_size])\n",
    "\n",
    "train_loader = DataLoader(train_dataset, batch_size=batch_size, shuffle=True)\n",
    "val_loader = DataLoader(val_dataset, batch_size=batch_size, shuffle=False)"
   ]
  },
  {
   "cell_type": "markdown",
   "metadata": {},
   "source": [
    "Ya con el dataset dividido y adaptado a a PyTorch, podemos proceder instanciando el modelo y definiendo su función de pérdida y optimizador. En este caso, al tratarse de un problema de predicción entre 0 y 1, la función de pérdida más adecuada es **Binary Cross-Entropy Loss**, ya que tiene una menor penalización para los errores más pequeños y tiene un enfoque más probabilístico, que es lo que estamos buscando. [Fuente](https://medium.com/@hatodi0945/a-comparison-between-mse-cross-entropy-and-hinge-loss-4d4fe63cca12#:~:text=The%20MSE%20loss%20is%20therefore,several%20iterations%20of%20model%20training.)"
   ]
  },
  {
   "cell_type": "code",
   "execution_count": 404,
   "metadata": {},
   "outputs": [],
   "source": [
    "model = RedNeuronalGot(input_size=input_size, hidden_size=hidden_size, output_size=output_size)\n",
    "criterion = nn.MSELoss()\n",
    "optimizer = optim.Adam(model.parameters(), lr=learning_rate, weight_decay= 0.001)"
   ]
  },
  {
   "cell_type": "markdown",
   "metadata": {},
   "source": [
    "## MLP Entrenamiento básico"
   ]
  },
  {
   "cell_type": "markdown",
   "metadata": {},
   "source": [
    "Con los últimos parámetros establecidos, podemos proceder con las funciones previas al entrenamiento. En primer lugar, definiremos la función de evaluación, que medirá el rendimiento de nuestro modelo durante el entrenamiento."
   ]
  },
  {
   "cell_type": "code",
   "execution_count": 405,
   "metadata": {},
   "outputs": [],
   "source": [
    "def evaluate_model(model, dataloader, criterion):\n",
    "    model.eval()\n",
    "    total_loss = 0\n",
    "    total_mae = 0\n",
    "    all_preds = []\n",
    "    all_trues = []\n",
    "    \n",
    "    with torch.no_grad():\n",
    "        for batch_x, batch_y in dataloader:\n",
    "            outputs = model(batch_x)\n",
    "            loss = criterion(outputs, batch_y)\n",
    "            total_loss += loss.item()\n",
    "            \n",
    "            # Error absoluto medio\n",
    "            mae = (outputs - batch_y).abs().mean().item()\n",
    "            total_mae += mae\n",
    "            \n",
    "            # Guardar predicciones y valores reales para análisis\n",
    "            all_preds.extend(outputs.cpu().numpy())\n",
    "            all_trues.extend(batch_y.cpu().numpy())\n",
    "    \n",
    "    # Calcular promedios\n",
    "    avg_loss = total_loss / len(dataloader)\n",
    "    avg_mae = total_mae / len(dataloader)\n",
    "    \n",
    "    # Convertir a numpy arrays para cálculos posteriores\n",
    "    all_preds = np.array(all_preds).flatten()\n",
    "    all_trues = np.array(all_trues).flatten()\n",
    "    \n",
    "    # Calcular R²\n",
    "    ss_total = np.sum((all_trues - np.mean(all_trues))**2)\n",
    "    ss_residual = np.sum((all_trues - all_preds)**2)\n",
    "    r_squared = 1 - (ss_residual / ss_total) if ss_total != 0 else 0\n",
    "    \n",
    "    return avg_loss, avg_mae, r_squared"
   ]
  },
  {
   "cell_type": "markdown",
   "metadata": {},
   "source": [
    "Antes de empezar a entrenar el modelo, definiremos algunas variables que nos permitirán almacenar información importante relativa al entrenamiento."
   ]
  },
  {
   "cell_type": "code",
   "execution_count": 406,
   "metadata": {},
   "outputs": [],
   "source": [
    "# Variables para rastrear las mejores métricas\n",
    "best_val_loss = float('inf')\n",
    "best_train_loss = float('inf')\n",
    "best_val_mae = float('inf')\n",
    "best_val_r2 = -float('inf')  # R² es mejor cuando es más alto, por eso empezamos con -inf\n",
    "best_model_state = None\n",
    "\n",
    "# Listas para almacenar métricas\n",
    "train_losses = []\n",
    "val_losses = []\n",
    "val_maes = []\n",
    "val_r2s = []"
   ]
  },
  {
   "cell_type": "markdown",
   "metadata": {},
   "source": [
    "Ya con todo listo, procederemos a entrenar nuestra red neuronal."
   ]
  },
  {
   "cell_type": "code",
   "execution_count": 407,
   "metadata": {},
   "outputs": [
    {
     "name": "stdout",
     "output_type": "stream",
     "text": [
      "Época [10/150]\n",
      "Pérdida de entrenamiento: 0.0591\n",
      "Pérdida de validación: 0.0644\n",
      "MAE de validación: 0.2044\n",
      "R² de validación: 0.4026\n",
      "--------------------------------------------------\n",
      "Época [20/150]\n",
      "Pérdida de entrenamiento: 0.0586\n",
      "Pérdida de validación: 0.0630\n",
      "MAE de validación: 0.1978\n",
      "R² de validación: 0.4226\n",
      "--------------------------------------------------\n",
      "Época [30/150]\n",
      "Pérdida de entrenamiento: 0.0587\n",
      "Pérdida de validación: 0.0624\n",
      "MAE de validación: 0.1957\n",
      "R² de validación: 0.4288\n",
      "--------------------------------------------------\n",
      "Época [40/150]\n",
      "Pérdida de entrenamiento: 0.0563\n",
      "Pérdida de validación: 0.0633\n",
      "MAE de validación: 0.1962\n",
      "R² de validación: 0.4192\n",
      "--------------------------------------------------\n",
      "Época [50/150]\n",
      "Pérdida de entrenamiento: 0.0559\n",
      "Pérdida de validación: 0.0620\n",
      "MAE de validación: 0.1937\n",
      "R² de validación: 0.4341\n",
      "--------------------------------------------------\n",
      "Época [60/150]\n",
      "Pérdida de entrenamiento: 0.0564\n",
      "Pérdida de validación: 0.0626\n",
      "MAE de validación: 0.1928\n",
      "R² de validación: 0.4365\n",
      "--------------------------------------------------\n",
      "Época [70/150]\n",
      "Pérdida de entrenamiento: 0.0561\n",
      "Pérdida de validación: 0.0625\n",
      "MAE de validación: 0.1972\n",
      "R² de validación: 0.4320\n",
      "--------------------------------------------------\n",
      "Época [80/150]\n",
      "Pérdida de entrenamiento: 0.0564\n",
      "Pérdida de validación: 0.0624\n",
      "MAE de validación: 0.1963\n",
      "R² de validación: 0.4356\n",
      "--------------------------------------------------\n",
      "Época [90/150]\n",
      "Pérdida de entrenamiento: 0.0558\n",
      "Pérdida de validación: 0.0620\n",
      "MAE de validación: 0.1945\n",
      "R² de validación: 0.4361\n",
      "--------------------------------------------------\n",
      "Época [100/150]\n",
      "Pérdida de entrenamiento: 0.0560\n",
      "Pérdida de validación: 0.0631\n",
      "MAE de validación: 0.1958\n",
      "R² de validación: 0.4278\n",
      "--------------------------------------------------\n",
      "Época [110/150]\n",
      "Pérdida de entrenamiento: 0.0565\n",
      "Pérdida de validación: 0.0635\n",
      "MAE de validación: 0.2010\n",
      "R² de validación: 0.4267\n",
      "--------------------------------------------------\n",
      "Época [120/150]\n",
      "Pérdida de entrenamiento: 0.0548\n",
      "Pérdida de validación: 0.0649\n",
      "MAE de validación: 0.1936\n",
      "R² de validación: 0.4120\n",
      "--------------------------------------------------\n",
      "Época [130/150]\n",
      "Pérdida de entrenamiento: 0.0553\n",
      "Pérdida de validación: 0.0627\n",
      "MAE de validación: 0.1975\n",
      "R² de validación: 0.4318\n",
      "--------------------------------------------------\n",
      "Época [140/150]\n",
      "Pérdida de entrenamiento: 0.0539\n",
      "Pérdida de validación: 0.0632\n",
      "MAE de validación: 0.1954\n",
      "R² de validación: 0.4307\n",
      "--------------------------------------------------\n",
      "Época [150/150]\n",
      "Pérdida de entrenamiento: 0.0556\n",
      "Pérdida de validación: 0.0628\n",
      "MAE de validación: 0.1988\n",
      "R² de validación: 0.4291\n",
      "--------------------------------------------------\n",
      "\n",
      "===== MEJORES MÉTRICAS =====\n",
      "Mejor pérdida de entrenamiento: 0.0539\n",
      "Mejor pérdida de validación: 0.0619\n",
      "Mejor MAE de validación: 0.1891\n",
      "Mejor R² de validación: 0.4396\n"
     ]
    }
   ],
   "source": [
    "for epoch in range(num_epochs):\n",
    "    model.train()\n",
    "    train_loss = 0\n",
    "    for batch_x, batch_y in train_loader:\n",
    "        # Forward\n",
    "        outputs = model(batch_x.float())\n",
    "        loss = criterion(outputs, batch_y.float())\n",
    "        # Back\n",
    "        optimizer.zero_grad()\n",
    "        loss.backward()\n",
    "        optimizer.step()\n",
    "        train_loss += loss.item()\n",
    "    \n",
    "    # Pérdida de entrenamiento\n",
    "    avg_train_loss = train_loss / len(train_loader)\n",
    "    train_losses.append(avg_train_loss)\n",
    "    \n",
    "    # Guardar la mejor pérdida de entrenamiento\n",
    "    if avg_train_loss < best_train_loss:\n",
    "        best_train_loss = avg_train_loss\n",
    "\n",
    "    # Validación\n",
    "    val_loss, val_mae, val_r2 = evaluate_model(model, val_loader, criterion)\n",
    "    val_losses.append(val_loss)\n",
    "    val_maes.append(val_mae)\n",
    "    val_r2s.append(val_r2)\n",
    "    \n",
    "    # Guardar el mejor modelo y las mejores métricas\n",
    "    if val_loss < best_val_loss:\n",
    "        best_val_loss = val_loss\n",
    "        best_model_state = model.state_dict().copy()\n",
    "    \n",
    "    if val_mae < best_val_mae:\n",
    "        best_val_mae = val_mae\n",
    "    \n",
    "    if val_r2 > best_val_r2:\n",
    "        best_val_r2 = val_r2\n",
    "    \n",
    "    if (epoch + 1) % 10 == 0:\n",
    "        print(f'Época [{epoch+1}/{num_epochs}]')\n",
    "        print(f'Pérdida de entrenamiento: {avg_train_loss:.4f}')\n",
    "        print(f'Pérdida de validación: {val_loss:.4f}')\n",
    "        print(f'MAE de validación: {val_mae:.4f}')\n",
    "        print(f'R² de validación: {val_r2:.4f}')\n",
    "        print('-' * 50)\n",
    "\n",
    "# Cargar el mejor modelo\n",
    "model.load_state_dict(best_model_state)\n",
    "\n",
    "# Mostrar las mejores métricas al final\n",
    "print(\"\\n===== MEJORES MÉTRICAS =====\")\n",
    "print(f'Mejor pérdida de entrenamiento: {best_train_loss:.4f}')\n",
    "print(f'Mejor pérdida de validación: {best_val_loss:.4f}')\n",
    "print(f'Mejor MAE de validación: {best_val_mae:.4f}')\n",
    "print(f'Mejor R² de validación: {best_val_r2:.4f}')"
   ]
  },
  {
   "cell_type": "markdown",
   "metadata": {},
   "source": [
    "Una vez hemos entrenado la red, podemos realizar una gráfica nos muestre como ha ido evolucionando la pérdida a lo largo del entrenamiento. Esto nos permitirá determinar si nuestra red ha aprendido correctamente, observar si necesita más epochs o si necesitamos cambiar algún hiperparámetro."
   ]
  },
  {
   "cell_type": "code",
   "execution_count": 408,
   "metadata": {},
   "outputs": [
    {
     "data": {
      "image/png": "[encoded data removed]",
      "text/plain": [
       "<Figure size 1000x600 with 1 Axes>"
      ]
     },
     "metadata": {},
     "output_type": "display_data"
    }
   ],
   "source": [
    "def visualize_predictions(model, dataloader):\n",
    "    model.eval()\n",
    "    all_preds = []\n",
    "    all_trues = []\n",
    "    \n",
    "    with torch.no_grad():\n",
    "        for batch_x, batch_y in dataloader:\n",
    "            outputs = model(batch_x)\n",
    "            all_preds.extend(outputs.cpu().numpy())\n",
    "            all_trues.extend(batch_y.cpu().numpy())\n",
    "    \n",
    "    all_preds = np.array(all_preds).flatten()\n",
    "    all_trues = np.array(all_trues).flatten()\n",
    "    \n",
    "    plt.figure(figsize=(10, 6))\n",
    "    plt.scatter(all_trues, all_preds, alpha=0.5)\n",
    "    plt.plot([0, 1], [0, 1], 'r--')  # Línea diagonal perfecta\n",
    "    plt.xlabel('Probabilidad real')\n",
    "    plt.ylabel('Probabilidad predicha')\n",
    "    plt.title('Predicciones vs Valores reales')\n",
    "    plt.grid(True)\n",
    "    plt.show()\n",
    "\n",
    "# Usar después del entrenamiento\n",
    "visualize_predictions(model, val_loader)"
   ]
  },
  {
   "cell_type": "markdown",
   "metadata": {},
   "source": [
    "## MLP Evaluación final"
   ]
  },
  {
   "cell_type": "code",
   "execution_count": null,
   "metadata": {},
   "outputs": [],
   "source": []
  }
 ],
 "metadata": {
  "kernelspec": {
   "display_name": "Python 3",
   "language": "python",
   "name": "python3"
  },
  "language_info": {
   "codemirror_mode": {
    "name": "ipython",
    "version": 3
   },
   "file_extension": ".py",
   "mimetype": "text/x-python",
   "name": "python",
   "nbconvert_exporter": "python",
   "pygments_lexer": "ipython3",
   "version": "3.12.0"
  }
 },
 "nbformat": 4,
 "nbformat_minor": 2
}
