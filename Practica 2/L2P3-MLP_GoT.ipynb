{
 "cells": [
  {
   "cell_type": "markdown",
   "metadata": {},
   "source": [
    "# Práctica 2 - MLP para funciones lógicas - Lab 2\n",
    "## Preparación de entorno\n",
    "#### Instalar las librerías"
   ]
  },
  {
   "cell_type": "code",
   "execution_count": 406,
   "metadata": {},
   "outputs": [],
   "source": [
    "#%pip install torch torchvision pandas matplotlib"
   ]
  },
  {
   "cell_type": "markdown",
   "metadata": {},
   "source": [
    "#### Importar librerías de código"
   ]
  },
  {
   "cell_type": "code",
   "execution_count": 407,
   "metadata": {},
   "outputs": [],
   "source": [
    "import torch # type: ignore\n",
    "import torch.nn as nn # type: ignore\n",
    "import torch.optim as optim # type: ignore\n",
    "from sklearn.metrics import f1_score # type: ignore\n",
    "from sklearn.preprocessing import StandardScaler, MinMaxScaler # type: ignore\n",
    "import pandas as pd # type: ignore\n",
    "import random\n",
    "import numpy as np # type: ignore\n",
    "import matplotlib.pyplot as plt # type: ignore\n",
    "from torch.utils.data import DataLoader, TensorDataset, random_split # type: ignore"
   ]
  },
  {
   "cell_type": "markdown",
   "metadata": {},
   "source": [
    "### Preparación de los datos de entrenamiento\n"
   ]
  },
  {
   "cell_type": "markdown",
   "metadata": {},
   "source": [
    "En primer lugar, importaremos nuestro dataset con pandas, con el fin de crear un dataframe que nos permita trabajar con los datos de forma más cómoda."
   ]
  },
  {
   "cell_type": "code",
   "execution_count": 408,
   "metadata": {},
   "outputs": [],
   "source": [
    "df_train = pd.read_csv(\"data/got_train.csv\")"
   ]
  },
  {
   "cell_type": "markdown",
   "metadata": {},
   "source": [
    "Una vez tenemos el dataset con las columnas necesarias, dividiremos los datos entre las carácterísticas de entrenamiento y el atributo objetivo, que en este caso es *alive*."
   ]
  },
  {
   "cell_type": "code",
   "execution_count": 409,
   "metadata": {},
   "outputs": [],
   "source": [
    "# Características del entrenamiento\n",
    "x_train = df_train[['male', 'isMarried', 'isNoble', 'numDeadRelations', 'isPopular', 'book1', 'book2', 'book3', 'book4', 'book5']]\n",
    "# Objetivo\n",
    "y_train = df_train['alive']\n",
    "scaler = MinMaxScaler()\n",
    "x_train_scaled = scaler.fit_transform(x_train)\n"
   ]
  },
  {
   "cell_type": "markdown",
   "metadata": {},
   "source": [
    "Antes de pasar con la definición del modelo, debemos convertir nuestros datos a tensores, de tal manera que podamos trabajar con ellos en PyTorch.  \n",
    "En el caso del target, al ser un dataset unidimensional, debemos transformarlo a una matriz de una columna y n filas para que sea compatible con las funciones de pérdida y del modelo que usaremos posteriormente."
   ]
  },
  {
   "cell_type": "code",
   "execution_count": 410,
   "metadata": {},
   "outputs": [],
   "source": [
    "x_train_tensor = torch.tensor(x_train_scaled, dtype= torch.float32)\n",
    "y_train_tensor = torch.tensor(y_train.values, dtype= torch.float32).view(-1, 1)"
   ]
  },
  {
   "cell_type": "markdown",
   "metadata": {},
   "source": [
    "## MLP SetUp"
   ]
  },
  {
   "cell_type": "markdown",
   "metadata": {},
   "source": [
    "Una vez hemos preparado nuestros datos de entrenamiento, procederemos con la definición de nuestro modelo. Para ello, empezaremos definiendo los hiperparámetros."
   ]
  },
  {
   "cell_type": "code",
   "execution_count": 411,
   "metadata": {},
   "outputs": [],
   "source": [
    "input_size = x_train_tensor.shape[1] # Número de características de entrada que va a usar el modelo.\n",
    "hidden_size = 32 # Número de neuronas de la capa oculta\n",
    "output_size = 1 # Número de nueronas de salida. Ponemos 1 porque va a ser una clasificación binaria (vivo/muerto)\n",
    "\n",
    "batch_size = 64\n",
    "learning_rate = 0.001\n",
    "num_epochs = 100\n",
    "validation_split = 0.2 \n",
    "\n",
    "torch.manual_seed(42)\n",
    "np.random.seed(42)\n",
    "random.seed(42)"
   ]
  },
  {
   "cell_type": "markdown",
   "metadata": {},
   "source": [
    "Con los hiperparámetros definidos, podemos crear nuestro modelo MLP."
   ]
  },
  {
   "cell_type": "code",
   "execution_count": 412,
   "metadata": {},
   "outputs": [],
   "source": [
    "class RedNeuronalGot(nn.Module):\n",
    "    def __init__(self, input_size, hidden_size, output_size):\n",
    "        super(RedNeuronalGot, self).__init__()\n",
    "        # Capas de la red\n",
    "        self.capa1 = nn.Linear(input_size, hidden_size)\n",
    "        self.capa2 = nn.Linear(hidden_size, hidden_size*2)\n",
    "        self.capa3 = nn.Linear(hidden_size*2, hidden_size)\n",
    "        self.capa4 = nn.Linear(hidden_size, output_size)\n",
    "\n",
    "        #Función de activación\n",
    "        self.relu = nn.ReLU()\n",
    "        #Función de activación para la capa de salida (binaria)\n",
    "        self.sigmoid = nn.Sigmoid()\n",
    "        # Establecemos un dropout para evitar que no hayan neuronas que acaben siendo insignificantes\n",
    "        self.dropout = nn.Dropout(0.4)\n",
    "\n",
    "    def forward(self, x):\n",
    "        x = self.relu(self.capa1(x))\n",
    "        x = self.dropout(x)\n",
    "        x = self.relu(self.capa2(x))\n",
    "        x = self.dropout(x)\n",
    "        x = self.relu(self.capa3(x))\n",
    "        x = self.dropout(x)\n",
    "        x = self.capa4(x)\n",
    "        x = self.sigmoid(x)  # Aplicamos Sigmoid para obtener un valor entre 0 y 1\n",
    "        return x"
   ]
  },
  {
   "cell_type": "markdown",
   "metadata": {},
   "source": [
    "En este caso, hemos decidido utilizar la función de activación Relu para las capas intermedias, y para la capa de salida, la sigmoidea, ya que nos va a sacar siempre un valor entre 0 y 1, que es lo que nos interesa a nosotros para nuestra predicción.  \n",
    "\n",
    "A continuación, dividiremos los datos de entrenamiento y los de validación."
   ]
  },
  {
   "cell_type": "code",
   "execution_count": 413,
   "metadata": {},
   "outputs": [],
   "source": [
    "dataset = TensorDataset(x_train_tensor, y_train_tensor)\n",
    "dataset_size = len(x_train_tensor)\n",
    "validation_size = int(validation_split * dataset_size)\n",
    "train_size = dataset_size - validation_size\n",
    "\n",
    "train_dataset, val_dataset = random_split(dataset, [train_size, validation_size])\n",
    "\n",
    "train_loader = DataLoader(train_dataset, batch_size=batch_size, shuffle=True)\n",
    "val_loader = DataLoader(val_dataset, batch_size=batch_size, shuffle=False)"
   ]
  },
  {
   "cell_type": "markdown",
   "metadata": {},
   "source": [
    "Ya con el dataset dividido y adaptado a a PyTorch, podemos proceder instanciando el modelo y definiendo su función de pérdida y optimizador. En este caso, al tratarse de un problema de predicción entre 0 y 1, la función de pérdida más adecuada es **Binary Cross-Entropy Loss**, ya que tiene una menor penalización para los errores más pequeños y tiene un enfoque más probabilístico, que es lo que estamos buscando. [Fuente](https://medium.com/@hatodi0945/a-comparison-between-mse-cross-entropy-and-hinge-loss-4d4fe63cca12#:~:text=The%20MSE%20loss%20is%20therefore,several%20iterations%20of%20model%20training.)"
   ]
  },
  {
   "cell_type": "code",
   "execution_count": 414,
   "metadata": {},
   "outputs": [],
   "source": [
    "model = RedNeuronalGot(input_size=input_size, hidden_size=hidden_size, output_size=output_size)\n",
    "criterion = nn.MSELoss()\n",
    "optimizer = optim.Adam(model.parameters(), lr=learning_rate)"
   ]
  },
  {
   "cell_type": "markdown",
   "metadata": {},
   "source": [
    "## MLP Entrenamiento básico"
   ]
  },
  {
   "cell_type": "markdown",
   "metadata": {},
   "source": [
    "Con los últimos parámetros establecidos, podemos proceder con las funciones previas al entrenamiento. En primer lugar, definiremos la función de evaluación, que medirá el rendimiento de nuestro modelo durante el entrenamiento."
   ]
  },
  {
   "cell_type": "code",
   "execution_count": 415,
   "metadata": {},
   "outputs": [],
   "source": [
    "def evaluate_model(model, dataloader, criterion):\n",
    "    model.eval()\n",
    "    total_loss = 0\n",
    "    total_mse = 0\n",
    "    \n",
    "    with torch.no_grad():\n",
    "        for batch_x, batch_y in dataloader:\n",
    "            outputs = model(batch_x)\n",
    "            loss = criterion(outputs, batch_y)\n",
    "            mse = torch.mean((outputs - batch_y)**2)\n",
    "            \n",
    "            total_loss += loss.item()\n",
    "            total_mse += mse.item()\n",
    "    \n",
    "    avg_loss = total_loss / len(dataloader)\n",
    "    avg_mse = total_mse / len(dataloader)\n",
    "    \n",
    "    return avg_loss, avg_mse"
   ]
  },
  {
   "cell_type": "markdown",
   "metadata": {},
   "source": [
    "Antes de empezar a entrenar el modelo, definiremos algunas variables que nos permitirán almacenar información importante relativa al entrenamiento."
   ]
  },
  {
   "cell_type": "code",
   "execution_count": 416,
   "metadata": {},
   "outputs": [],
   "source": [
    "best_val_loss = float('inf')\n",
    "best_train_loss = float('inf')\n",
    "best_val_mse = float('inf')\n",
    "best_model_state = None\n",
    "\n",
    "train_losses = []\n",
    "val_losses = []\n",
    "val_mses = []\n",
    "\n",
    "umbral_early_stop = 15\n",
    "contador_early_stop = 0"
   ]
  },
  {
   "cell_type": "markdown",
   "metadata": {},
   "source": [
    "Ya con todo listo, procederemos a entrenar nuestra red neuronal."
   ]
  },
  {
   "cell_type": "code",
   "execution_count": 417,
   "metadata": {},
   "outputs": [
    {
     "name": "stdout",
     "output_type": "stream",
     "text": [
      "Época [10/100]\n",
      "Pérdida de entrenamiento: 0.0690\n",
      "Pérdida de validación: 0.0679\n",
      "MSE de entrenamiento: 0.0690\n",
      "MSE de validación: 0.0679\n",
      "--------------------------------------------------\n",
      "Época [20/100]\n",
      "Pérdida de entrenamiento: 0.0638\n",
      "Pérdida de validación: 0.0672\n",
      "MSE de entrenamiento: 0.0638\n",
      "MSE de validación: 0.0672\n",
      "--------------------------------------------------\n",
      "Época [30/100]\n",
      "Pérdida de entrenamiento: 0.0626\n",
      "Pérdida de validación: 0.0664\n",
      "MSE de entrenamiento: 0.0626\n",
      "MSE de validación: 0.0664\n",
      "--------------------------------------------------\n",
      "Época [40/100]\n",
      "Pérdida de entrenamiento: 0.0595\n",
      "Pérdida de validación: 0.0654\n",
      "MSE de entrenamiento: 0.0595\n",
      "MSE de validación: 0.0654\n",
      "--------------------------------------------------\n",
      "Época [50/100]\n",
      "Pérdida de entrenamiento: 0.0592\n",
      "Pérdida de validación: 0.0659\n",
      "MSE de entrenamiento: 0.0592\n",
      "MSE de validación: 0.0659\n",
      "--------------------------------------------------\n",
      "Época [60/100]\n",
      "Pérdida de entrenamiento: 0.0606\n",
      "Pérdida de validación: 0.0647\n",
      "MSE de entrenamiento: 0.0606\n",
      "MSE de validación: 0.0647\n",
      "--------------------------------------------------\n",
      "Época [70/100]\n",
      "Pérdida de entrenamiento: 0.0581\n",
      "Pérdida de validación: 0.0642\n",
      "MSE de entrenamiento: 0.0581\n",
      "MSE de validación: 0.0642\n",
      "--------------------------------------------------\n",
      "Época [80/100]\n",
      "Pérdida de entrenamiento: 0.0577\n",
      "Pérdida de validación: 0.0641\n",
      "MSE de entrenamiento: 0.0577\n",
      "MSE de validación: 0.0641\n",
      "--------------------------------------------------\n",
      "\n",
      "Parando entrenamiento en la época 89 por Early Stopping.\n",
      "Mejor pérdida de entrenamiento: 0.0555\n",
      "Mejor pérdida de validación: 0.4472\n",
      "Mejor MSE de validación: 0.0639\n"
     ]
    }
   ],
   "source": [
    "\n",
    "for epoch in range(num_epochs):\n",
    "    model.train()\n",
    "    train_loss = 0\n",
    "    train_mse = 0\n",
    "    \n",
    "    for batch_x, batch_y in train_loader:\n",
    "        # Forward\n",
    "        outputs = model(batch_x.float())\n",
    "        loss = criterion(outputs, batch_y.float())\n",
    "        mse = torch.mean((outputs - batch_y)**2)\n",
    "        \n",
    "        # Backward\n",
    "        optimizer.zero_grad()\n",
    "        loss.backward()\n",
    "        optimizer.step()\n",
    "        \n",
    "        train_loss += loss.item()\n",
    "        train_mse += mse.item()\n",
    "    \n",
    "    # Pérdida de entrenamiento\n",
    "    avg_train_loss = train_loss / len(train_loader)\n",
    "    avg_train_mse = train_mse / len(train_loader)\n",
    "    train_losses.append(avg_train_loss)\n",
    "    \n",
    "    if avg_train_loss < best_train_loss:\n",
    "        best_train_loss = avg_train_loss\n",
    "\n",
    "    # Validación\n",
    "    model.eval()\n",
    "    val_loss = 0\n",
    "    val_mse = 0\n",
    "    \n",
    "    with torch.no_grad():\n",
    "        for batch_x, batch_y in val_loader:\n",
    "            outputs = model(batch_x.float())\n",
    "            loss = criterion(outputs, batch_y.float())\n",
    "            mse = torch.mean((outputs - batch_y)**2)\n",
    "            \n",
    "            val_loss += loss.item()\n",
    "            val_mse += mse.item()\n",
    "    \n",
    "    avg_val_loss = val_loss / len(val_loader)\n",
    "    avg_val_mse = val_mse / len(val_loader)\n",
    "    \n",
    "    val_losses.append(avg_val_loss)\n",
    "    val_mses.append(avg_val_mse)\n",
    "    \n",
    "    if val_loss < best_val_loss:\n",
    "        best_val_loss = val_loss\n",
    "        best_model_state = model.state_dict().copy()\n",
    "        contador_early_stop = 0  # Si hay mejora, el contador vuelve a 0\n",
    "    else:\n",
    "        contador_early_stop += 1  # Si no mejora, se suma 1 al contador\n",
    "\n",
    "    if contador_early_stop >= umbral_early_stop:\n",
    "        print(f'\\nParando entrenamiento en la época {epoch+1} por Early Stopping.')\n",
    "        break\n",
    "    \n",
    "    if avg_val_mse < best_val_mse:\n",
    "        best_val_mse = avg_val_mse\n",
    "    \n",
    "    if (epoch + 1) % 10 == 0:\n",
    "        print(f'Época [{epoch+1}/{num_epochs}]')\n",
    "        print(f'Pérdida de entrenamiento: {avg_train_loss:.4f}')\n",
    "        print(f'Pérdida de validación: {avg_val_loss:.4f}')\n",
    "        print(f'MSE de entrenamiento: {avg_train_mse:.4f}')\n",
    "        print(f'MSE de validación: {avg_val_mse:.4f}')\n",
    "        print('-' * 50)\n",
    "\n",
    "model.load_state_dict(best_model_state)\n",
    "\n",
    "print(f'Mejor pérdida de entrenamiento: {best_train_loss:.4f}')\n",
    "print(f'Mejor pérdida de validación: {best_val_loss:.4f}')\n",
    "print(f'Mejor MSE de validación: {best_val_mse:.4f}')"
   ]
  },
  {
   "cell_type": "markdown",
   "metadata": {},
   "source": [
    "Una vez hemos entrenado la red, podemos realizar una gráfica nos muestre como ha ido evolucionando la pérdida a lo largo del entrenamiento. Esto nos permitirá determinar si nuestra red ha aprendido correctamente, observar si necesita más epochs o si necesitamos cambiar algún hiperparámetro."
   ]
  },
  {
   "cell_type": "code",
   "execution_count": 418,
   "metadata": {},
   "outputs": [
    {
     "data": {
      "image/png": "[encoded data removed]",
      "text/plain": [
       "<Figure size 1200x500 with 2 Axes>"
      ]
     },
     "metadata": {},
     "output_type": "display_data"
    }
   ],
   "source": [
    "# Gráficas\n",
    "plt.figure(figsize=(12, 5))\n",
    "plt.subplot(1, 2, 1)\n",
    "plt.plot(range(len(train_losses)), train_losses, label='Pérdida de entrenamiento')\n",
    "plt.plot(range(len(val_losses)), val_losses, label='Pérdida de validación')\n",
    "plt.title('Evolución de la Pérdida')\n",
    "plt.xlabel('Épocas')\n",
    "plt.ylabel('Pérdida')\n",
    "plt.legend()\n",
    "\n",
    "plt.subplot(1, 2, 2)\n",
    "plt.plot(range(len(val_mses)), val_mses, label='MSE de validación')\n",
    "plt.title('Evolución del Error Cuadrático Medio')\n",
    "plt.xlabel('Épocas')\n",
    "plt.ylabel('MSE')\n",
    "plt.legend()\n",
    "\n",
    "plt.tight_layout()\n",
    "plt.show()"
   ]
  },
  {
   "cell_type": "markdown",
   "metadata": {},
   "source": [
    "## MLP Evaluación final"
   ]
  },
  {
   "cell_type": "markdown",
   "metadata": {},
   "source": [
    "Con el modelo correctamente entrenado, procederemos a realizar algunas pruebas para evaluar la capacidad de predicción de nuestro modelo. Para ello, usaremos el dataset *got_predict.csv*, buscando que personaje tiene más probabilidades de morir.  \n",
    "\n",
    "Para ello, en primer lugar convertiremos el csv a dataframe igual que hicimos con los datos de entrenamiento, para posteriormente aplicar el mismo preprocesamiento que utilizamos con los datos anteriores."
   ]
  },
  {
   "cell_type": "code",
   "execution_count": 419,
   "metadata": {},
   "outputs": [],
   "source": [
    "df_predict = pd.read_csv(\"data/got_predict.csv\")\n",
    "\n",
    "nombres_personajes = df_predict['name']\n",
    "\n",
    "x_predict = df_predict[['male', 'isMarried', 'isNoble', 'numDeadRelations', 'isPopular', 'book1', 'book2', 'book3', 'book4', 'book5']]\n",
    "x_predict_scaled = scaler.transform(x_predict)\n",
    "\n",
    "x_predict_tensor = torch.tensor(x_predict_scaled, dtype=torch.float32)"
   ]
  },
  {
   "cell_type": "markdown",
   "metadata": {},
   "source": [
    "Ya con los datos preprocesados, podemos utilizar nuestro modelo para la predicción."
   ]
  },
  {
   "cell_type": "code",
   "execution_count": 420,
   "metadata": {},
   "outputs": [
    {
     "name": "stdout",
     "output_type": "stream",
     "text": [
      "                       Personaje  Probabilidad_Morir\n",
      "2                      Coldhands            0.710090\n",
      "3                 Othell Yarwyck            0.554014\n",
      "4  Roland Crakehall (Kingsguard)            0.456576\n",
      "1             Daenerys Targaryen            0.100902\n",
      "0               Tommen Baratheon            0.015961\n"
     ]
    }
   ],
   "source": [
    "model.eval()\n",
    "with torch.no_grad():\n",
    "    predicciones = model(x_predict_tensor).numpy().flatten()\n",
    "\n",
    "\n",
    "resultados = pd.DataFrame({'Personaje': nombres_personajes, 'Probabilidad_Morir': predicciones})\n",
    "\n",
    "resultados = resultados.sort_values(by='Probabilidad_Morir', ascending=False)\n",
    "\n",
    "print(resultados.head(7))"
   ]
  }
 ],
 "metadata": {
  "kernelspec": {
   "display_name": "Python 3",
   "language": "python",
   "name": "python3"
  },
  "language_info": {
   "codemirror_mode": {
    "name": "ipython",
    "version": 3
   },
   "file_extension": ".py",
   "mimetype": "text/x-python",
   "name": "python",
   "nbconvert_exporter": "python",
   "pygments_lexer": "ipython3",
   "version": "3.12.9"
  }
 },
 "nbformat": 4,
 "nbformat_minor": 2
}
