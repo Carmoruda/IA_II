{
 "cells": [
  {
   "cell_type": "markdown",
   "metadata": {},
   "source": [
    "# Práctica 2 - MLP para funciones lógicas - Lab 2\n",
    "## Preparación de entorno\n",
    "#### Instalar las librerías"
   ]
  },
  {
   "cell_type": "code",
   "execution_count": 282,
   "metadata": {},
   "outputs": [],
   "source": [
    "# %pip install torch torchvision pandas matplotlib"
   ]
  },
  {
   "cell_type": "markdown",
   "metadata": {},
   "source": [
    "#### Importar librerías de código"
   ]
  },
  {
   "cell_type": "code",
   "execution_count": 283,
   "metadata": {},
   "outputs": [],
   "source": [
    "import torch # type: ignore\n",
    "import torch.nn as nn # type: ignore\n",
    "import torch.optim as optim # type: ignore\n",
    "import pandas as pd\n",
    "import numpy as np\n",
    "import matplotlib.pyplot as plt\n",
    "from torch.utils.data import DataLoader, TensorDataset, random_split # type: ignore"
   ]
  },
  {
   "cell_type": "markdown",
   "metadata": {},
   "source": [
    "### Preparación de los datos de entrenamiento\n"
   ]
  },
  {
   "cell_type": "markdown",
   "metadata": {},
   "source": [
    "En primer lugar, importaremos nuestro dataset con pandas, con el fin de crear un dataframe que nos permita trabajar con los datos de forma más cómoda."
   ]
  },
  {
   "cell_type": "code",
   "execution_count": 284,
   "metadata": {},
   "outputs": [],
   "source": [
    "df_train = pd.read_csv(\"data/got_train.csv\", usecols=['male', 'isMarried', 'isNoble', 'numDeadRelations', 'isPopular', 'book1','book2','book3','book4','book5', 'alive'])"
   ]
  },
  {
   "cell_type": "markdown",
   "metadata": {},
   "source": [
    "Una vez tenemos el dataset con las columnas necesarias, dividiremos los datos entre las carácterísticas de entrenamiento y el atributo objetivo, que en este caso es *alive*."
   ]
  },
  {
   "cell_type": "code",
   "execution_count": 285,
   "metadata": {},
   "outputs": [],
   "source": [
    "# Características del entrenamiento\n",
    "x_train = df_train[['male', 'isMarried', 'isNoble', 'numDeadRelations', 'isPopular', 'book1', 'book2', 'book3', 'book4', 'book5']]\n",
    "# Objetivo\n",
    "y_train = df_train['alive']"
   ]
  },
  {
   "cell_type": "markdown",
   "metadata": {},
   "source": [
    "Antes de pasar con la definición del modelo, debemos convertir nuestros datos a tensores, de tal manera que podamos trabajar con ellos en PyTorch.  \n",
    "En el caso del target, al ser un dataset unidimensional, debemos transformarlo a una matriz de una columna y n filas para que sea compatible con las funciones de pérdida y del modelo que usaremos posteriormente."
   ]
  },
  {
   "cell_type": "code",
   "execution_count": 286,
   "metadata": {},
   "outputs": [],
   "source": [
    "x_train_tensor = torch.tensor(x_train.values)\n",
    "y_train_tensor = torch.tensor(y_train.values).view(-1, 1)"
   ]
  },
  {
   "cell_type": "markdown",
   "metadata": {},
   "source": [
    "## MLP SetUp"
   ]
  },
  {
   "cell_type": "markdown",
   "metadata": {},
   "source": [
    "Una vez hemos preparado nuestros datos de entrenamiento, procederemos con la definición de nuestro modelo. Para ello, empezaremos definiendo los hiperparámetros."
   ]
  },
  {
   "cell_type": "code",
   "execution_count": 287,
   "metadata": {},
   "outputs": [],
   "source": [
    "input_size = x_train_tensor.shape[1] # Número de características de entrada que va a usar el modelo.\n",
    "hidden_size1 = 32 # Número de neuronas de la capa oculta\n",
    "hidden_size2 = 64 # Número de neuronas de la capa oculta 2\n",
    "output_size = 1 # Número de nueronas de salida. Ponemos 1 porque va a ser una clasificación binaria (vivo/muerto)\n",
    "\n",
    "batch_size = 32\n",
    "learning_rate = 0.01\n",
    "num_epochs = 150\n",
    "validation_split = 0.2 "
   ]
  },
  {
   "cell_type": "markdown",
   "metadata": {},
   "source": [
    "Con los hiperparámetros definidos, podemos crear nuestro modelo MLP."
   ]
  },
  {
   "cell_type": "code",
   "execution_count": null,
   "metadata": {},
   "outputs": [],
   "source": [
    "class RedNeuronalGot(nn.Module):\n",
    "    def __init__(self, input_size, hidden_size1, hidden_size2, output_size):\n",
    "        super(RedNeuronalGot, self).__init__()\n",
    "        # Capas de la red\n",
    "        self.capa1 = nn.Linear(input_size, hidden_size1)\n",
    "        self.capa2 = nn.Linear(hidden_size1, hidden_size2)\n",
    "        self.capa3 = nn.Linear(hidden_size2, hidden_size1)\n",
    "        self.capa4 = nn.Linear(hidden_size1, output_size)\n",
    "\n",
    "        #Función de activación\n",
    "        self.relu = nn.ReLU()\n",
    "        #Función de activación para la capa de salida (binaria)\n",
    "        self.sigmoid = nn.Sigmoid()\n",
    "    def forward(self, x):\n",
    "        x = self.relu(self.capa1(x))\n",
    "        x = self.relu(self.capa2(x))\n",
    "        x = self.capa4(x)\n",
    "        x = self.sigmoid(x)  # Aplicamos Sigmoid para obtener un valor entre 0 y 1\n",
    "        return x"
   ]
  },
  {
   "cell_type": "markdown",
   "metadata": {},
   "source": [
    "En este caso, hemos decidido utilizar la función de activación Relu para las capas intermedias, y para la capa de salida, la sigmoidea, ya que nos va a sacar siempre un valor entre 0 y 1, que es lo que nos interesa a nosotros para nuestra predicción.  \n",
    "\n",
    "A continuación, dividiremos los datos de entrenamiento y los de validación."
   ]
  },
  {
   "cell_type": "code",
   "execution_count": 289,
   "metadata": {},
   "outputs": [],
   "source": [
    "dataset = TensorDataset(x_train_tensor, y_train_tensor)\n",
    "dataset_size = len(x_train_tensor)\n",
    "validation_size = int(validation_split * dataset_size)\n",
    "train_size = dataset_size - validation_size\n",
    "\n",
    "train_dataset, val_dataset = random_split(dataset, [train_size, validation_size])\n",
    "\n",
    "train_loader = DataLoader(train_dataset, batch_size=batch_size, shuffle=True)\n",
    "val_loader = DataLoader(val_dataset, batch_size=batch_size, shuffle=False)"
   ]
  },
  {
   "cell_type": "markdown",
   "metadata": {},
   "source": [
    "Ya con el dataset dividido y adaptado a a PyTorch, podemos proceder instanciando el modelo y definiendo su función de pérdida y optimizador. En este caso, al tratarse de un problema de predicción entre 0 y 1, la función de pérdida más adecuada es **Binary Cross-Entropy Loss**, ya que tiene una menor penalización para los errores más pequeños y tiene un enfoque más probabilístico, que es lo que estamos buscando. [Fuente](https://medium.com/@hatodi0945/a-comparison-between-mse-cross-entropy-and-hinge-loss-4d4fe63cca12#:~:text=The%20MSE%20loss%20is%20therefore,several%20iterations%20of%20model%20training.)"
   ]
  },
  {
   "cell_type": "code",
   "execution_count": 290,
   "metadata": {},
   "outputs": [],
   "source": [
    "model = RedNeuronalGot(input_size=input_size, hidden_size1=hidden_size1, hidden_size2=hidden_size2, output_size=output_size)\n",
    "\n",
    "criterion = nn.BCELoss()\n",
    "optimizer = optim.SGD(model.parameters(), lr=learning_rate)"
   ]
  },
  {
   "cell_type": "markdown",
   "metadata": {},
   "source": [
    "## MLP Entrenamiento básico"
   ]
  },
  {
   "cell_type": "markdown",
   "metadata": {},
   "source": [
    "Con los últimos parámetros establecidos, podemos proceder con las funciones previas al entrenamiento. En primer lugar, definiremos la función de evaluación, que medirá el rendimiento de nuestro modelo durante el entrenamiento."
   ]
  },
  {
   "cell_type": "code",
   "execution_count": 291,
   "metadata": {},
   "outputs": [],
   "source": [
    "def evaluate_model(model, dataloader, criterion):\n",
    "    model.eval()\n",
    "    total_loss = 0\n",
    "    with torch.no_grad():\n",
    "        for batch_x, batch_y in dataloader:\n",
    "            outputs = model(batch_x.float())\n",
    "            loss = criterion(outputs, batch_y.float())\n",
    "            total_loss += loss.item()\n",
    "\n",
    "    return total_loss / len(dataloader)"
   ]
  },
  {
   "cell_type": "markdown",
   "metadata": {},
   "source": [
    "Antes de empezar a entrenar el modelo, definiremos algunas variables que nos permitirán almacenar información importante relativa al entrenamiento."
   ]
  },
  {
   "cell_type": "code",
   "execution_count": 292,
   "metadata": {},
   "outputs": [],
   "source": [
    "train_losses = []\n",
    "val_losses = []\n",
    "best_val_loss = float('inf')\n",
    "best_model_state = None"
   ]
  },
  {
   "cell_type": "markdown",
   "metadata": {},
   "source": [
    "Ya con todo listo, procederemos a entrenar nuestra red neuronal."
   ]
  },
  {
   "cell_type": "code",
   "execution_count": 293,
   "metadata": {},
   "outputs": [
    {
     "name": "stdout",
     "output_type": "stream",
     "text": [
      "Época [10/150]\n",
      "Pérdida de entrenamiento: 0.6549\n",
      "Pérdida de validación: 0.6590\n",
      "--------------------------------------------------\n",
      "Época [20/150]\n",
      "Pérdida de entrenamiento: 0.6483\n",
      "Pérdida de validación: 0.6529\n",
      "--------------------------------------------------\n",
      "Época [30/150]\n",
      "Pérdida de entrenamiento: 0.6413\n",
      "Pérdida de validación: 0.6466\n",
      "--------------------------------------------------\n",
      "Época [40/150]\n",
      "Pérdida de entrenamiento: 0.6319\n",
      "Pérdida de validación: 0.6379\n",
      "--------------------------------------------------\n",
      "Época [50/150]\n",
      "Pérdida de entrenamiento: 0.6177\n",
      "Pérdida de validación: 0.6271\n",
      "--------------------------------------------------\n",
      "Época [60/150]\n",
      "Pérdida de entrenamiento: 0.6007\n",
      "Pérdida de validación: 0.6151\n",
      "--------------------------------------------------\n",
      "Época [70/150]\n",
      "Pérdida de entrenamiento: 0.5850\n",
      "Pérdida de validación: 0.6052\n",
      "--------------------------------------------------\n",
      "Época [80/150]\n",
      "Pérdida de entrenamiento: 0.5775\n",
      "Pérdida de validación: 0.6010\n",
      "--------------------------------------------------\n",
      "Época [90/150]\n",
      "Pérdida de entrenamiento: 0.5726\n",
      "Pérdida de validación: 0.5985\n",
      "--------------------------------------------------\n",
      "Época [100/150]\n",
      "Pérdida de entrenamiento: 0.5698\n",
      "Pérdida de validación: 0.5973\n",
      "--------------------------------------------------\n",
      "Época [110/150]\n",
      "Pérdida de entrenamiento: 0.5680\n",
      "Pérdida de validación: 0.5962\n",
      "--------------------------------------------------\n",
      "Época [120/150]\n",
      "Pérdida de entrenamiento: 0.5665\n",
      "Pérdida de validación: 0.5949\n",
      "--------------------------------------------------\n",
      "Época [130/150]\n",
      "Pérdida de entrenamiento: 0.5649\n",
      "Pérdida de validación: 0.5939\n",
      "--------------------------------------------------\n",
      "Época [140/150]\n",
      "Pérdida de entrenamiento: 0.5640\n",
      "Pérdida de validación: 0.5931\n",
      "--------------------------------------------------\n",
      "Época [150/150]\n",
      "Pérdida de entrenamiento: 0.5630\n",
      "Pérdida de validación: 0.5928\n",
      "--------------------------------------------------\n",
      "\n",
      "Mejor pérdida de validación: 0.5923\n"
     ]
    }
   ],
   "source": [
    "for epoch in range(num_epochs):\n",
    "    model.train()\n",
    "    train_loss = 0\n",
    "    for batch_x, batch_y in train_loader:\n",
    "        # Forward\n",
    "        outputs = model(batch_x.float())\n",
    "        loss = criterion(outputs, batch_y.float())\n",
    "        # Back\n",
    "        optimizer.zero_grad()\n",
    "        loss.backward()\n",
    "        optimizer.step()\n",
    "        \n",
    "        train_loss += loss.item()\n",
    "    \n",
    "    avg_train_loss = train_loss / len(train_loader)\n",
    "    train_losses.append(avg_train_loss)\n",
    "    \n",
    "    val_loss = evaluate_model(model, val_loader, criterion)\n",
    "    val_losses.append(val_loss)\n",
    "    \n",
    "    if val_loss < best_val_loss:\n",
    "        best_val_loss = val_loss\n",
    "        best_model_state = model.state_dict().copy()\n",
    "    \n",
    "    if (epoch + 1) % 10 == 0:\n",
    "        print(f'Época [{epoch+1}/{num_epochs}]')\n",
    "        print(f'Pérdida de entrenamiento: {avg_train_loss:.4f}')\n",
    "        print(f'Pérdida de validación: {val_loss:.4f}')\n",
    "        print('-' * 50)\n",
    "\n",
    "model.load_state_dict(best_model_state)\n",
    "print(f'\\nMejor pérdida de validación: {best_val_loss:.4f}')"
   ]
  },
  {
   "cell_type": "markdown",
   "metadata": {},
   "source": [
    "Una vez hemos entrenado la red, podemos realizar una gráfica nos muestre como ha ido evolucionando la pérdida a lo largo del entrenamiento. Esto nos permitirá determinar si nuestra red ha aprendido correctamente, observar si necesita más epochs o si necesitamos cambiar algún hiperparámetro."
   ]
  },
  {
   "cell_type": "code",
   "execution_count": 294,
   "metadata": {},
   "outputs": [
    {
     "data": {
      "image/png": "[encoded data removed]",
      "text/plain": [
       "<Figure size 640x480 with 1 Axes>"
      ]
     },
     "metadata": {},
     "output_type": "display_data"
    }
   ],
   "source": [
    "# Graficar la pérdida de entrenamiento y validación\n",
    "plt.plot(range(1, num_epochs + 1), train_losses, label='Pérdida de entrenamiento')\n",
    "plt.plot(range(1, num_epochs + 1), val_losses, label='Pérdida de validación')\n",
    "plt.xlabel('Épocas')\n",
    "plt.ylabel('Pérdida')\n",
    "plt.title('Evolución de la pérdida durante el entrenamiento')\n",
    "plt.legend()\n",
    "plt.grid(True)\n",
    "plt.show()"
   ]
  },
  {
   "cell_type": "markdown",
   "metadata": {},
   "source": [
    "## MLP Evaluación final"
   ]
  },
  {
   "cell_type": "code",
   "execution_count": null,
   "metadata": {},
   "outputs": [],
   "source": []
  }
 ],
 "metadata": {
  "kernelspec": {
   "display_name": "Python 3",
   "language": "python",
   "name": "python3"
  },
  "language_info": {
   "codemirror_mode": {
    "name": "ipython",
    "version": 3
   },
   "file_extension": ".py",
   "mimetype": "text/x-python",
   "name": "python",
   "nbconvert_exporter": "python",
   "pygments_lexer": "ipython3",
   "version": "3.12.9"
  }
 },
 "nbformat": 4,
 "nbformat_minor": 2
}
