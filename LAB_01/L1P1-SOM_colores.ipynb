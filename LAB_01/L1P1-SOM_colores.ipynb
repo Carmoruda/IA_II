{
 "cells": [
  {
   "cell_type": "markdown",
   "metadata": {},
   "source": [
    "# Práctica 1 - Self-Organising Maps\n",
    "## Preparación de entorno\n",
    "#### Importar librerías de código"
   ]
  },
  {
   "cell_type": "code",
   "execution_count": 21,
   "metadata": {},
   "outputs": [],
   "source": [
    "%reset\n",
    "# from __future__ import division\n",
    "\n",
    "import numpy as np\n",
    "from matplotlib import pyplot as plt\n",
    "from matplotlib import patches as patches\n",
    "\n",
    "%matplotlib inline"
   ]
  },
  {
   "cell_type": "markdown",
   "metadata": {},
   "source": [
    "#### Dataset que se va a utilizar para el entrenamiento"
   ]
  },
  {
   "cell_type": "code",
   "execution_count": 22,
   "metadata": {
    "collapsed": true
   },
   "outputs": [],
   "source": [
    "# Código para obtener el Dataset que se va a usar en el entrenamiento\n",
    "datos = np.random.randint(0, 255, (100, 3))"
   ]
  },
  {
   "cell_type": "markdown",
   "metadata": {},
   "source": [
    "## SOM Setup\n",
    "#### Variables definidas por el alumno"
   ]
  },
  {
   "cell_type": "code",
   "execution_count": 23,
   "metadata": {
    "collapsed": true
   },
   "outputs": [],
   "source": [
    "# Inicializa tamaño del mapa de Kohonen, número de iteraciones y learning rate\n",
    "# Inicializa normalizar_datos dependiendo de si tienes que normalizar los datos o no\n",
    "lado_mapa = 10\n",
    "periodo = 100\n",
    "learning_rate = 0.1\n",
    "normalizar_datos = True"
   ]
  },
  {
   "cell_type": "markdown",
   "metadata": {},
   "source": [
    "#### A partir de este punto solo hay cálculos. No se introducen más valores \"a mano\""
   ]
  },
  {
   "cell_type": "code",
   "execution_count": null,
   "metadata": {
    "collapsed": true
   },
   "outputs": [
    {
     "name": "stdout",
     "output_type": "stream",
     "text": [
      "El patron elegido es  [0.70196078 0.49019608 0.89019608]  y el numero de entradas es  3\n",
      "[[[0.88195114 0.06458405 0.84820435]\n",
      "  [0.18856209 0.81612384 0.98682931]\n",
      "  [0.04039827 0.75463081 0.53988221]\n",
      "  [0.91656793 0.38888634 0.21052149]\n",
      "  [0.16808955 0.56432328 0.76785865]\n",
      "  [0.71624767 0.87353481 0.09625227]\n",
      "  [0.90631882 0.14137314 0.82147229]\n",
      "  [0.0053746  0.43131789 0.20036477]\n",
      "  [0.73614054 0.27715396 0.69476908]\n",
      "  [0.87641451 0.86876555 0.00615081]]\n",
      "\n",
      " [[0.49513105 0.20074465 0.15651467]\n",
      "  [0.95621074 0.37210437 0.8586705 ]\n",
      "  [0.78553761 0.95538729 0.61208571]\n",
      "  [0.02765565 0.87483601 0.5819111 ]\n",
      "  [0.72960726 0.80140436 0.3951523 ]\n",
      "  [0.77590257 0.41069747 0.63418971]\n",
      "  [0.26630306 0.90485039 0.20618841]\n",
      "  [0.92135492 0.99538956 0.206606  ]\n",
      "  [0.36753541 0.16271335 0.43514937]\n",
      "  [0.58954723 0.21339139 0.2397626 ]]\n",
      "\n",
      " [[0.4778773  0.97720352 0.58899777]\n",
      "  [0.37338948 0.17764882 0.63263883]\n",
      "  [0.80801566 0.08464339 0.82643914]\n",
      "  [0.22897271 0.31861455 0.65989688]\n",
      "  [0.36771005 0.26790304 0.90599561]\n",
      "  [0.03718615 0.62604593 0.37199525]\n",
      "  [0.3778223  0.5807807  0.73065252]\n",
      "  [0.31730523 0.14535866 0.05648525]\n",
      "  [0.77566356 0.56984763 0.59408539]\n",
      "  [0.71770012 0.62866484 0.27509295]]\n",
      "\n",
      " [[0.96915765 0.51880221 0.75268949]\n",
      "  [0.53409311 0.90465986 0.54455271]\n",
      "  [0.52070288 0.78917975 0.4630473 ]\n",
      "  [0.81360884 0.59331249 0.99412636]\n",
      "  [0.54113257 0.80841695 0.88546155]\n",
      "  [0.47996856 0.77462967 0.09016272]\n",
      "  [0.21870923 0.6466269  0.2895432 ]\n",
      "  [0.30336136 0.53621743 0.38761745]\n",
      "  [0.93016226 0.55246658 0.23479053]\n",
      "  [0.10678821 0.71790895 0.84919124]]\n",
      "\n",
      " [[0.58932761 0.45441321 0.16649654]\n",
      "  [0.14573301 0.87132134 0.24069316]\n",
      "  [0.6047449  0.26681601 0.31414686]\n",
      "  [0.34961389 0.98634216 0.11831363]\n",
      "  [0.17213587 0.13177822 0.78401546]\n",
      "  [0.23609053 0.5944781  0.83043155]\n",
      "  [0.38060378 0.61297602 0.79956859]\n",
      "  [0.42535624 0.1989532  0.99794796]\n",
      "  [0.94147842 0.00219283 0.15151759]\n",
      "  [0.14457716 0.63146278 0.2409047 ]]\n",
      "\n",
      " [[0.07956959 0.70812476 0.45334701]\n",
      "  [0.6653279  0.49871513 0.23154615]\n",
      "  [0.82422515 0.32958965 0.65641347]\n",
      "  [0.38483284 0.5362367  0.199874  ]\n",
      "  [0.01525102 0.46406342 0.46006575]\n",
      "  [0.92949213 0.19199999 0.11316986]\n",
      "  [0.33781748 0.21800276 0.55291578]\n",
      "  [0.88598788 0.4204437  0.09803004]\n",
      "  [0.69724433 0.94130548 0.8119069 ]\n",
      "  [0.7829443  0.356317   0.94200926]]\n",
      "\n",
      " [[0.34887462 0.92610181 0.06254669]\n",
      "  [0.53457346 0.92525644 0.61635513]\n",
      "  [0.16677068 0.84689301 0.40625408]\n",
      "  [0.345757   0.071179   0.03983444]\n",
      "  [0.97471072 0.01174844 0.76203884]\n",
      "  [0.52003727 0.11055638 0.44906875]\n",
      "  [0.68979777 0.03315605 0.26586848]\n",
      "  [0.55529765 0.08203453 0.65055119]\n",
      "  [0.75024805 0.75686695 0.43022522]\n",
      "  [0.80760475 0.63571233 0.30838461]]\n",
      "\n",
      " [[0.81022127 0.03086665 0.49527691]\n",
      "  [0.2466863  0.96791267 0.00473725]\n",
      "  [0.09870734 0.26053871 0.88192447]\n",
      "  [0.06059136 0.34608625 0.46756657]\n",
      "  [0.86889188 0.54627903 0.3902506 ]\n",
      "  [0.17636598 0.98193534 0.94864314]\n",
      "  [0.00414713 0.50398041 0.16770816]\n",
      "  [0.35150391 0.35148903 0.54318878]\n",
      "  [0.5341523  0.14898877 0.97870979]\n",
      "  [0.27527262 0.62482511 0.86124945]]\n",
      "\n",
      " [[0.0513465  0.98862106 0.94413403]\n",
      "  [0.6026041  0.0434818  0.64426116]\n",
      "  [0.94501469 0.01913978 0.83014696]\n",
      "  [0.57322866 0.45620255 0.28174356]\n",
      "  [0.95145878 0.59571232 0.38085525]\n",
      "  [0.21360668 0.77477001 0.08597392]\n",
      "  [0.06271269 0.04280948 0.20289713]\n",
      "  [0.5185553  0.27053762 0.077624  ]\n",
      "  [0.80048179 0.30999835 0.18194691]\n",
      "  [0.87313757 0.53913306 0.17352554]]\n",
      "\n",
      " [[0.97652441 0.90447174 0.02751376]\n",
      "  [0.06709883 0.76563018 0.41033271]\n",
      "  [0.49484717 0.74672609 0.31774478]\n",
      "  [0.83687308 0.54887806 0.2044751 ]\n",
      "  [0.78689794 0.51363741 0.08507176]\n",
      "  [0.33325723 0.72538185 0.69176664]\n",
      "  [0.96870217 0.99805702 0.1281674 ]\n",
      "  [0.13828916 0.59964254 0.47945055]\n",
      "  [0.90686182 0.96215663 0.17867994]\n",
      "  [0.06779146 0.14763085 0.72755555]]]\n"
     ]
    }
   ],
   "source": [
    "# Normaliza los datos si fuese necesario dividiendo cada dato por el máximo en la matriz\n",
    "if normalizar_datos:\n",
    "    datos = datos/255\n",
    "\n",
    "# Establece el numero de entradas del mapa y el número de datos que se van a usar para entrenar. \n",
    "# Utiliza una función que obtenga automáticamente los valores a partir del Dataset.\n",
    " \n",
    "def patron_escogido(datos):\n",
    "    valor = np.random.randint(0, 100)\n",
    "    patron_elegido = datos[valor]\n",
    "    num_entradas = patron_elegido.size\n",
    "    return patron_elegido, num_entradas\n",
    "\n",
    "patron_elegido, num_entradas = patron_escogido(datos)\n",
    "print(\"El patron elegido es \",patron_elegido,\" y el numero de entradas es \",num_entradas)\n",
    "# Calcula el vecindario inicial. Debe ser la mitad del lado del mapa de Kohonen\n",
    "vecindario = lado_mapa // 2\n",
    "\n",
    "\n",
    "\n",
    "    \n",
    "# Crea una matriz de pesos con valores random entre 0 y 1. Usa la función random.random de la librería NumPy\n",
    "#matriz_pesos = np.random.random((dimensiones de la matriz de pesos))\n",
    "matriz_pesos = np.random.random((lado_mapa, lado_mapa, num_entradas))\n",
    "print(matriz_pesos.shape)\n"
   ]
  },
  {
   "cell_type": "markdown",
   "metadata": {},
   "source": [
    "#### Funciones para entrenar/clasificar"
   ]
  },
  {
   "cell_type": "code",
   "execution_count": 25,
   "metadata": {
    "collapsed": true
   },
   "outputs": [
    {
     "ename": "SyntaxError",
     "evalue": "incomplete input (3651684424.py, line 9)",
     "output_type": "error",
     "traceback": [
      "\u001b[1;36m  Cell \u001b[1;32mIn[25], line 9\u001b[1;36m\u001b[0m\n\u001b[1;33m    def calcular_bmu(patron_entrada, m_pesos, m):\u001b[0m\n\u001b[1;37m                                                 ^\u001b[0m\n\u001b[1;31mSyntaxError\u001b[0m\u001b[1;31m:\u001b[0m incomplete input\n"
     ]
    }
   ],
   "source": [
    "# Función para encontrar la BMU\n",
    "\"\"\"\n",
    "   Encuentra la BMU para un patrón de entrada.\n",
    "   Entradas: (patrón_de_entrada, matriz_de_pesos, número_de_entradas)\n",
    "   Salidas:  (bmu, bmu_idx) tupla donde\n",
    "               bmu: vector de pesos de la neurona ganadora\n",
    "               bum_idx: coordenadas de la neurona ganadora\n",
    "\"\"\"\n",
    "def calcular_bmu(patron_entrada, m_pesos, m):"
   ]
  },
  {
   "cell_type": "code",
   "execution_count": null,
   "metadata": {
    "collapsed": true
   },
   "outputs": [],
   "source": [
    "# Función para calcular el descenso del coeficiente de aprendizaje (eta)\n",
    "\"\"\"\n",
    "   Calcula el Learning Rate (eta) que corresponde a la i-ésima presentación.\n",
    "   Entradas: (learning_rate_inicial, iteracion, período)\n",
    "   Salidas:  learning_rate para la iteración i\n",
    "\n",
    "\"\"\"\n",
    "def variacion_learning_rate(lr_inicial, i, n_iteraciones):"
   ]
  },
  {
   "cell_type": "code",
   "execution_count": null,
   "metadata": {
    "collapsed": true
   },
   "outputs": [],
   "source": [
    "# Función para calcular el descenso del vecindario (v)\n",
    "\"\"\"\n",
    "   Calcula el vecindario  (v) que corresponde a la i-ésima presentación.\n",
    "   Entradas: (vecindario_inicial, iteracion, período)\n",
    "   Salidas:  lvecindario para la iteración i\n",
    "\n",
    "\"\"\"\n",
    "def variacion_vecindario(vecindario_inicial, i, n_iteraciones):"
   ]
  },
  {
   "cell_type": "code",
   "execution_count": null,
   "metadata": {
    "collapsed": true
   },
   "outputs": [],
   "source": [
    "# Función para calcular el descenso del coeficiente de aprendizaje (eta) en función de la distancia a la BMU\n",
    "\"\"\"\n",
    "   Calcula la amortiguación de eta en función de la distancia en el mapa entre una neurona y la BMU.\n",
    "   Entradas: (distancia_BMU, vecindario_actual)\n",
    "   Salidas:  amortiguación para la iteración\n",
    "\n",
    "\"\"\"\n",
    "def decay(distancia_BMU, vecindario_actual):\n",
    "    return np.exp(-distancia_BMU / (2* (vecindario_actual**2)))"
   ]
  },
  {
   "cell_type": "markdown",
   "metadata": {},
   "source": [
    "#### Funciones para dibujar la salida de la red"
   ]
  },
  {
   "cell_type": "code",
   "execution_count": null,
   "metadata": {
    "collapsed": true
   },
   "outputs": [],
   "source": [
    "# Función para pintar una matriz de valores como colores RGB\n",
    "def pintar_mapa(matriz_valores):\n",
    "    fig = plt.figure()\n",
    "    \n",
    "    # Establece ejes\n",
    "    ax = fig.add_subplot(111, aspect='equal')\n",
    "    ax.set_xlim((0, matriz_pesos.shape[0]+1))\n",
    "    ax.set_ylim((0, matriz_pesos.shape[1]+1))\n",
    "    ax.set_title('Self-Organising Map después de %d iteraciones' % periodo)\n",
    "\n",
    "    # Dibuja los rectángulos de color RGB\n",
    "    for x in range(1, matriz_valores.shape[0] + 1):\n",
    "        for y in range(1, matriz_valores.shape[1] + 1):\n",
    "            ax.add_patch(patches.Rectangle((x-0.5, y-0.5), 1, 1,\n",
    "                         facecolor=matriz_valores[x-1,y-1,:],\n",
    "                         edgecolor='none'))\n",
    "    plt.show()"
   ]
  },
  {
   "cell_type": "markdown",
   "metadata": {},
   "source": [
    "## SOM Entrenamiento"
   ]
  },
  {
   "cell_type": "code",
   "execution_count": null,
   "metadata": {
    "collapsed": true
   },
   "outputs": [],
   "source": [
    "# Entrena la red con el dataset de entrenamiento\n",
    "\n"
   ]
  },
  {
   "cell_type": "markdown",
   "metadata": {},
   "source": [
    "## SOM Clasificación"
   ]
  },
  {
   "cell_type": "code",
   "execution_count": null,
   "metadata": {
    "collapsed": true
   },
   "outputs": [],
   "source": [
    "# Clasifica los patrones de entrenamiento con la matriz de pesos recién entrenada\n",
    "\n"
   ]
  },
  {
   "cell_type": "markdown",
   "metadata": {},
   "source": [
    "## SOM Prueba"
   ]
  },
  {
   "cell_type": "code",
   "execution_count": null,
   "metadata": {
    "collapsed": true
   },
   "outputs": [],
   "source": [
    "# Clasifica nuevos patrones\n",
    "\n"
   ]
  }
 ],
 "metadata": {
  "anaconda-cloud": {},
  "kernelspec": {
   "display_name": "base",
   "language": "python",
   "name": "python3"
  },
  "language_info": {
   "codemirror_mode": {
    "name": "ipython",
    "version": 3
   },
   "file_extension": ".py",
   "mimetype": "text/x-python",
   "name": "python",
   "nbconvert_exporter": "python",
   "pygments_lexer": "ipython3",
   "version": "3.12.4"
  }
 },
 "nbformat": 4,
 "nbformat_minor": 2
}
