{
 "cells": [
  {
   "cell_type": "markdown",
   "metadata": {},
   "source": [
    "# Práctica 1 - Self-Organising Maps\n",
    "## Preparación de entorno\n",
    "#### Instalar las librerías"
   ]
  },
  {
   "cell_type": "code",
   "execution_count": 11,
   "metadata": {},
   "outputs": [],
   "source": [
    "# %pip install numpy\n",
    "# %pip install matplotlib"
   ]
  },
  {
   "cell_type": "markdown",
   "metadata": {},
   "source": [
    "#### Importar librerías de código"
   ]
  },
  {
   "cell_type": "code",
   "execution_count": 12,
   "metadata": {},
   "outputs": [],
   "source": [
    "%reset\n",
    "# from __future__ import division\n",
    "\n",
    "import numpy as np\n",
    "from matplotlib import pyplot as plt\n",
    "from matplotlib import patches as patches\n",
    "\n",
    "# Permite que los gráficos sean interactivos en el notebook\n",
    "%matplotlib inline"
   ]
  },
  {
   "cell_type": "markdown",
   "metadata": {},
   "source": [
    "## SOM Setup\n",
    "* **SOM** $\\rightarrow$ Red neuronal no supervisada que reduce la dimensionalidad de los datos y los visualiza en un mapa 2D (Mapa autoorganizado).\n",
    "  * Vector de entrada $\\rightarrow$ Se le va presentando al SOM y ajusta sus pesos con estos vectores.\n",
    "  * Autoorganización $\\rightarrow$ Las neuroinas que repsonden de forma siilar a cierta entrada se agrupan.\n",
    "  * Aprendizaje y ajuste $\\rightarrow$ Durante el entrenamiento, la red modifica los donde cada mapa se especializa en un patrón específico.\n",
    "* **Matriz de pesos** $\\rightarrow$ Matriz multidimensionl de neuronas que procesea patrones que vienen de un array de neuronas de entrada. \n",
    "  * Se inicializa con valores aleatorios (no a partir del vector de entrada, si no que se van ajustando a lo largo del entrenamiento).\n",
    "* ***Best Matching Unit (BMU)*** $\\rightarrow$ Neurona que tiene el vector de pesos más similar al vector de entrada. \n",
    "  * El aprendizaje se basa en la actualización de los pesos de la BMU y de las neuronas vecinas. \n",
    "  * Los pesos de la BMU se ajustan/actualizan para acercarse al vector de entrada.\n",
    "* **Vecindad** $\\rightarrow$ Neuronas adyacentes a la BMU (es una región de la matriz de pesos).\n",
    "  * Las neuronas de la vecindad también se ajustan, pero en menor medida que la BMU.\n",
    "* ***Learning Rate (LR)*** $\\rightarrow$ Factor que determina cuánto se ajustan los pesos de la BMU y de las neuronas vecinas.\n",
    "  * Se reduce a lo largo del tiempo para que el ajuste sea más preciso.\n",
    "  * Disminuye a medida que nos alejamos de la BMU.\n",
    "\n",
    "> *Nota* - El SOM aprende a ordenar la matriz de pesos para que reperesente la estructura inherente a los datos de entrada."
   ]
  },
  {
   "cell_type": "code",
   "execution_count": 13,
   "metadata": {
    "collapsed": true
   },
   "outputs": [
    {
     "data": {
      "text/plain": [
       "'Matriz de pesos de las neuronas'"
      ]
     },
     "execution_count": 13,
     "metadata": {},
     "output_type": "execute_result"
    }
   ],
   "source": [
    "lado_mapa = 50\n",
    "\"\"\"Tamaño del mapa de Kohonen (lado_mapa x lado_mapa)\"\"\"\n",
    "\n",
    "periodo = 5000\n",
    "\"\"\"Número total de iteraciones del entrenamiento\"\"\"\n",
    "\n",
    "learning_rate = 0.15\n",
    "\"\"\"Tasa de aprendizaje inicial (cuanto se modifica el peso en cada iteración)\"\"\"\n",
    "\n",
    "normalizar_datos = True\n",
    "\"\"\"Indica si hay que normalizar los datos o no\"\"\"\n",
    "\n",
    "num_entradas = 3\n",
    "\"\"\"Dimensionalidad de los datos de entrada (3 para RGB)\"\"\"\n",
    "\n",
    "num_datos = 100\n",
    "\"\"\"Cantidad de muestras de colores que usaremos para entrenar el SOM\"\"\"\n",
    "\n",
    "valor_maximo = 255\n",
    "\"\"\"Valor máximo de los datos de entrada (255 para RGB)\"\"\"\n",
    "\n",
    "vecindario = lado_mapa // 2\n",
    "\"\"\"Radio de influenia alrededor de la neurona ganadora\"\"\"\n",
    "\n",
    "# Estructura -> minimo, maximo, (numero de colores por dato, numero de datos))\n",
    "datos = np.random.randint(0, valor_maximo + 1, (num_entradas, num_datos))\n",
    "\"\"\"Matriz de 100 colores con 3 valores RGB aleatorios\"\"\"\n",
    "\n",
    "if normalizar_datos:\n",
    "    # Escalamos los datos al rango [0, 1]\n",
    "    datos = datos / np.max(valor_maximo)\n",
    "\n",
    "matriz_pesos = np.random.random((lado_mapa, lado_mapa, num_entradas))\n",
    "\"\"\"Matriz de pesos de las neuronas\"\"\""
   ]
  },
  {
   "cell_type": "markdown",
   "metadata": {},
   "source": [
    "#### Funciones para entrenar/clasificar\n",
    "##### Distancia euclídea\n",
    "\n",
    "La distancia euclídea se define como la raíz cuadrada de la suma de las diferencias al cuadrado de cada componente de los vectores. Tenemos que calcularlo para vectores RGB, por lo que la fórmula es la siguiente:\n",
    "$$\\text{distancia euclídea} = \\sqrt{(R_{entrada} - R_{actual})^2 + (G_{entrada} - G_{actual})^2 + (B_{entrada} - B_{actual})^2}$$"
   ]
  },
  {
   "cell_type": "code",
   "execution_count": 14,
   "metadata": {
    "collapsed": true
   },
   "outputs": [],
   "source": [
    "def calcular_bmu(patron_entrada, matriz_pesos, num_entradas) -> tuple:\n",
    "   \"\"\"Encuentra la BMU (neurona ganadora) para un patrón de entrada.\n",
    "\n",
    "   Args:\n",
    "      patron_entrada: Vector de entrada de color RGB normalizado\n",
    "      matriz_pesos: Matriz de pesos de las neuronas del SOM\n",
    "      num_entradas: Dimensionalidad de los datos de entrada (3 para RGB)\n",
    "\n",
    "   Returns:\n",
    "      tuple (bmu, bmu_idx):\n",
    "         - bmu: vector de pesos de la neurona ganadora\n",
    "         - bmu_idx: coordenadas [x,y] de la neurona ganadora\n",
    "   \"\"\"\n",
    "\n",
    "   distancia_minima = float('inf')\n",
    "   bmu = np.zeros(num_entradas)\n",
    "   bmu_idx = np.zeros(2)\n",
    "\n",
    "   # Recorremos cada neurona para encontrar la BMU\n",
    "   # Filas -> matriz_pesos.shape[0]\n",
    "   # Columnas -> matriz_pesos.shape[1]\n",
    "   for fila in range(matriz_pesos.shape[0]):\n",
    "      for columna in range(matriz_pesos.shape[1]):\n",
    "         peso_actual = matriz_pesos[fila, columna]\n",
    "\n",
    "         # Calculamos la distancia euclídea entre el peso actual y el patrón de entrada\n",
    "         distancia = np.linalg.norm(patron_entrada - peso_actual)\n",
    "\n",
    "         if distancia < distancia_minima:\n",
    "            distancia_minima = distancia\n",
    "            bmu = peso_actual\n",
    "            bmu_idx = np.array([fila, columna])\n",
    "\n",
    "   return bmu, bmu_idx"
   ]
  },
  {
   "cell_type": "markdown",
   "metadata": {},
   "source": [
    "##### Learning Rate\n",
    "\n",
    "El learning rate es un valor que se va reduciendo a medida que se va entrenando la red. Controla cuánto se modifican los pesos y determina el temaño del ajuste en los pesos de las neuronas. Se calcula usando una función de decaimiento lineal:\n",
    "$$\\alpha(t) = \\alpha_0 \\cdot \\left ( 1 - \\frac{t}{T} \\right)$$\n",
    "\n",
    "Donde:\n",
    "* $\\alpha_0$: Learning rate inicial.\n",
    "* $t$: Iteración actual.\n",
    "* $T$: Número total de iteraciones.\n",
    "* $\\alpha(t)$: Learning rate en la iteración $t$.\n",
    "\n",
    "¿Porque usamos el decaimiento lineal?:\n",
    "1. **Fase inicial:**\n",
    "   * El learning rate comienza en su valor máximo ($\\alpha_0$).\n",
    "   * La reducción es constante y predecible.\n",
    "   * Los ajustes son proporcionalmente grandes.\n",
    "   * Permite que hagamos modificaciones significativas en el mapa.\n",
    "2. **Fase media:**\n",
    "    * Descenso uniforme del learning rate.\n",
    "    * Los cambios en los pesos son más pequeños.\n",
    "    * Los ajustes son proporcionales al tiempo que ha pasado.\n",
    "    * El mapa comienza a estabilizarse.\n",
    "3. **Fase final:**\n",
    "   * Learning rate se aproxima a 0.\n",
    "   * Los ajustes se vuelven muy pequeños.\n",
    "   * Los cambios son mínimos al final del entrenamiento.\n",
    "   * El mapa tiene a una configuración final estable.\n"
   ]
  },
  {
   "cell_type": "code",
   "execution_count": 15,
   "metadata": {
    "collapsed": true
   },
   "outputs": [],
   "source": [
    "def variacion_learning_rate(learning_rate_inicial, iteracion_actual, num_iteraciones) -> float:\n",
    "   \"\"\"Calcula el Learning Rate (eta) para  la iteración actual utilizando el decaimiento lineal.\n",
    "\n",
    "   Args:\n",
    "      learning_rate_inicial: Learning rate inicial\n",
    "      iteracion_actual: Iteración actual\n",
    "      num_iteraciones: Número total de iteraciones\n",
    "\n",
    "   Returns:\n",
    "      float: Learning rate actualizado para la iteración actual\n",
    "   \"\"\"\n",
    "\n",
    "   return learning_rate_inicial * ( 1 - (iteracion_actual / num_iteraciones))"
   ]
  },
  {
   "cell_type": "markdown",
   "metadata": {},
   "source": [
    "##### Vecindario\n",
    "\n",
    "El vencindario es una región de influencia alrededor de la neurona ganadora que determina qué otrsa neuronas se actualizarán y en que medida. Es como una zona de impacto y también se calcula usando la función de decaimiento lineal:\n",
    "$$\\sigma(t) = 1 + \\left ( \\sigma_0 \\cdot \\left (1 - \\frac{t}{T} \\right) \\right)$$\n",
    "\n",
    "Donde:\n",
    "* $\\sigma_0$: Radio inicial del vecindario.\n",
    "* $t$: Iteración actual.\n",
    "* $T$: Número total de iteraciones.\n",
    "* $\\sigma(t)$: Radio del venciandario en la iteración $t$.\n",
    "\n",
    "> *Nota* -> Añadimos el 1 para evitar que el radio del vecindario sea 0 en algún momento.\n",
    "\n",
    "¿Porque usamos el decaimiento lineal?:\n",
    "1. **Fase inicial:**\n",
    "   * El vecindario comienza en su valor máximo ($\\sigma_0$).\n",
    "   * Afecta a un gran número de neuronas vecinas.\n",
    "   * Permite que hagamos una organización global del mapa.\n",
    "   * Facilita que distribuyamos inicialmente las características.\n",
    "2. **Fase media:**\n",
    "    * Reducimos constantemente el radio del vecindario.\n",
    "    * Vamos disminuyendo la influencia gradualmente.\n",
    "    * Formamos estructuras locales más definidas.\n",
    "    * Los ajustes son más precisos y específicos.\n",
    "3. **Fase final:**\n",
    "   * El radio del vecindario se acerca linelamente a 0.\n",
    "   * Los ajustes son en un área muy pequeña.\n",
    "   * Se ajustan los últimos detalles.\n",
    "   * La influencia está practicamente limitada a la BMU.\n"
   ]
  },
  {
   "cell_type": "code",
   "execution_count": 16,
   "metadata": {
    "collapsed": true
   },
   "outputs": [],
   "source": [
    "def variacion_vecindario(vecindario_inicial, iteracion_actual, num_iteraciones) -> float:\n",
    "   \"\"\"Calcula el radio del vecindario para la iteración actual.\n",
    "\n",
    "   Args:\n",
    "      vecindario_inicial: Radio inicial del vecindario\n",
    "      iteracion_actual: Iteración actual\n",
    "      num_iteraciones: Número total de iteraciones\n",
    "\n",
    "   Returns:\n",
    "      float: Vecindario actualizado para la iteración actual\n",
    "   \"\"\"\n",
    "\n",
    "   return 1 + (vecindario_inicial * ( 1 - (iteracion_actual / num_iteraciones)))"
   ]
  },
  {
   "cell_type": "markdown",
   "metadata": {},
   "source": [
    "##### Decay (Amortiguación)\n",
    "\n",
    "El decay es una función que determina cómo se amortigua el learning rate según la distancia entre una neurona y la BMU (neurona ganadora). Se calcula usando una función gaussiana:\n",
    "\n",
    "$$h(d,\\sigma) = e^{-\\frac{d^2}{2\\sigma^2}}$$\n",
    "\n",
    "Donde:\n",
    "* $d$: Distancia entre la neurona y la BMU\n",
    "* $\\sigma$: Radio actual del vecindario\n",
    "* $h(d,\\sigma)$: Factor de amortiguación\n",
    "\n",
    "¿Por qué usamos una función gaussiana?:\n",
    "1. **Centro (BMU)**:\n",
    "   * Distancia = 0\n",
    "   * Máxima influencia ($\\approx 1$)\n",
    "   * Mayor ajuste de pesos\n",
    "\n",
    "2. **Neuronas cercanas**:\n",
    "   * Distancia pequeña\n",
    "   * Influencia moderada\n",
    "   * Ajuste proporcional a la cercanía\n",
    "\n",
    "3. **Neuronas lejanas**:\n",
    "   * Distancia grande\n",
    "   * Influencia mínima ($\\approx 0$)\n",
    "   * Casi no se modifican"
   ]
  },
  {
   "cell_type": "code",
   "execution_count": 17,
   "metadata": {
    "collapsed": true
   },
   "outputs": [],
   "source": [
    "def decay(distancia_BMU, vecindario_actual) -> float:\n",
    "   \"\"\"Calcula la amortiguación de eta en función de la distancia en el mapa entre una neurona y la BMU.\n",
    "\n",
    "   Args:\n",
    "      distancia_BMU: Distancia entre la neurona y la BMU\n",
    "      vecindario_actual: Radio actual del vecindario\n",
    "\n",
    "   Returns:\n",
    "      float: Factor de amortiguación para la iteración (Está entre 0 y 1)\n",
    "   \"\"\"\n",
    "   return np.exp(-distancia_BMU / (2 * (vecindario_actual**2)))"
   ]
  },
  {
   "cell_type": "markdown",
   "metadata": {},
   "source": [
    "#### Funciones para dibujar la salida de la red"
   ]
  },
  {
   "cell_type": "code",
   "execution_count": 24,
   "metadata": {
    "collapsed": true
   },
   "outputs": [],
   "source": [
    "def pintar_mapa(matriz_valores, titulo):\n",
    "    \"\"\"Función para pintar una matriz de valores como colores RGB.\n",
    "    Visualiza el mapa de Kohonen, donde cada neurona se representa como un rectángulo de color RGB.\n",
    "\n",
    "    Args:\n",
    "        matriz_valores: Matriz de valores RGB (lado_mapa x lado_mapa x 3)\n",
    "        titulo: Titulo del mapa\n",
    "    \"\"\"\n",
    "\n",
    "    # Creamos una nueva figura\n",
    "    fig = plt.figure()\n",
    "\n",
    "    # Establecemos los ejes\n",
    "    ax = fig.add_subplot(111, aspect='equal') # aspect='equal' mantiene cuadrados los rectángulos\n",
    "    ax.set_xlim((0, matriz_valores.shape[0]+1)) # Limites del eje x\n",
    "    ax.set_ylim((0, matriz_valores.shape[1]+1)) # Limites del eje y\n",
    "    ax.set_title(titulo)\n",
    "\n",
    "    # Dibujamos los rectángulos por cada neurona (Un cuadrado RGB)\n",
    "    for fila in range(1, matriz_valores.shape[0] + 1):\n",
    "        for columna in range(1, matriz_valores.shape[1] + 1):\n",
    "            ax.add_patch(patches.Rectangle(\n",
    "                (fila - 0.5, columna - 0.5),                           # Posición (x,y) del rectángulo\n",
    "                1, 1,                                                  # Ancho y alto del rectángulo\n",
    "                facecolor = matriz_valores[fila - 1, columna - 1, :],  # Color RGB del rectángulo\n",
    "                edgecolor = 'none'                                     # Sin borde\n",
    "            ))\n",
    "\n",
    "    plt.show()"
   ]
  },
  {
   "cell_type": "markdown",
   "metadata": {},
   "source": [
    "## SOM Entrenamiento"
   ]
  },
  {
   "cell_type": "code",
   "execution_count": null,
   "metadata": {
    "collapsed": true
   },
   "outputs": [
    {
     "data": {
      "image/png": "[encoded data removed]",
      "text/plain": [
       "<Figure size 640x480 with 1 Axes>"
      ]
     },
     "metadata": {},
     "output_type": "display_data"
    },
    {
     "ename": "KeyboardInterrupt",
     "evalue": "",
     "output_type": "error",
     "traceback": [
      "\u001b[1;31m---------------------------------------------------------------------------\u001b[0m",
      "\u001b[1;31mKeyboardInterrupt\u001b[0m                         Traceback (most recent call last)",
      "Cell \u001b[1;32mIn[19], line 46\u001b[0m\n\u001b[0;32m     42\u001b[0m         \u001b[38;5;28;01mif\u001b[39;00m epoca \u001b[38;5;241m%\u001b[39m \u001b[38;5;241m100\u001b[39m \u001b[38;5;241m==\u001b[39m \u001b[38;5;241m0\u001b[39m \u001b[38;5;129;01mand\u001b[39;00m epoca \u001b[38;5;241m!=\u001b[39m \u001b[38;5;241m0\u001b[39m:\n\u001b[0;32m     43\u001b[0m             \u001b[38;5;66;03m# Pintamos la matriz de pesos\u001b[39;00m\n\u001b[0;32m     44\u001b[0m             pintar_mapa(matriz_pesos, \u001b[38;5;124mf\u001b[39m\u001b[38;5;124m\"\u001b[39m\u001b[38;5;124mIteración: \u001b[39m\u001b[38;5;132;01m{\u001b[39;00mepoca\u001b[38;5;132;01m}\u001b[39;00m\u001b[38;5;124m\"\u001b[39m)\n\u001b[1;32m---> 46\u001b[0m \u001b[43mentrenar_datos\u001b[49m\u001b[43m(\u001b[49m\u001b[43mmatriz_pesos\u001b[49m\u001b[43m,\u001b[49m\u001b[43m \u001b[49m\u001b[43mperiodo\u001b[49m\u001b[43m,\u001b[49m\u001b[43m \u001b[49m\u001b[43mdatos\u001b[49m\u001b[43m,\u001b[49m\u001b[43m \u001b[49m\u001b[43mnum_datos\u001b[49m\u001b[43m,\u001b[49m\u001b[43m \u001b[49m\u001b[43mnum_entradas\u001b[49m\u001b[43m,\u001b[49m\u001b[43m \u001b[49m\u001b[43mlearning_rate\u001b[49m\u001b[43m,\u001b[49m\u001b[43m \u001b[49m\u001b[43mvecindario\u001b[49m\u001b[43m)\u001b[49m\n",
      "Cell \u001b[1;32mIn[19], line 33\u001b[0m, in \u001b[0;36mentrenar_datos\u001b[1;34m(matriz_pesos, periodo, datos, num_datos, num_entradas, learning_rate, vecindario)\u001b[0m\n\u001b[0;32m     30\u001b[0m \u001b[38;5;28;01mfor\u001b[39;00m fila \u001b[38;5;129;01min\u001b[39;00m \u001b[38;5;28mrange\u001b[39m(matriz_pesos\u001b[38;5;241m.\u001b[39mshape[\u001b[38;5;241m0\u001b[39m]):\n\u001b[0;32m     31\u001b[0m     \u001b[38;5;28;01mfor\u001b[39;00m columna \u001b[38;5;129;01min\u001b[39;00m \u001b[38;5;28mrange\u001b[39m(matriz_pesos\u001b[38;5;241m.\u001b[39mshape[\u001b[38;5;241m1\u001b[39m]):\n\u001b[0;32m     32\u001b[0m         \u001b[38;5;66;03m# Calculamos la distancia a la BMU\u001b[39;00m\n\u001b[1;32m---> 33\u001b[0m         distancia_bmu \u001b[38;5;241m=\u001b[39m \u001b[43mnp\u001b[49m\u001b[38;5;241;43m.\u001b[39;49m\u001b[43mlinalg\u001b[49m\u001b[38;5;241;43m.\u001b[39;49m\u001b[43mnorm\u001b[49m\u001b[43m(\u001b[49m\u001b[43m[\u001b[49m\u001b[43mfila\u001b[49m\u001b[43m \u001b[49m\u001b[38;5;241;43m-\u001b[39;49m\u001b[43m \u001b[49m\u001b[43mbmu_indice\u001b[49m\u001b[43m[\u001b[49m\u001b[38;5;241;43m0\u001b[39;49m\u001b[43m]\u001b[49m\u001b[43m,\u001b[49m\u001b[43m \u001b[49m\u001b[43mcolumna\u001b[49m\u001b[43m \u001b[49m\u001b[38;5;241;43m-\u001b[39;49m\u001b[43m \u001b[49m\u001b[43mbmu_indice\u001b[49m\u001b[43m[\u001b[49m\u001b[38;5;241;43m1\u001b[39;49m\u001b[43m]\u001b[49m\u001b[43m]\u001b[49m\u001b[43m)\u001b[49m\n\u001b[0;32m     35\u001b[0m         \u001b[38;5;28;01mif\u001b[39;00m distancia_bmu \u001b[38;5;241m<\u001b[39m\u001b[38;5;241m=\u001b[39m vec_actual:\n\u001b[0;32m     36\u001b[0m             \u001b[38;5;66;03m# Calculamos la amortiguación basada en la distancia\u001b[39;00m\n\u001b[0;32m     37\u001b[0m             amortiguacion \u001b[38;5;241m=\u001b[39m decay(distancia_bmu, vec_actual)\n",
      "File \u001b[1;32mc:\\Users\\rmore\\AppData\\Local\\Programs\\Python\\Python311\\Lib\\site-packages\\numpy\\linalg\\_linalg.py:2796\u001b[0m, in \u001b[0;36mnorm\u001b[1;34m(x, ord, axis, keepdims)\u001b[0m\n\u001b[0;32m   2794\u001b[0m     sqnorm \u001b[38;5;241m=\u001b[39m x_real\u001b[38;5;241m.\u001b[39mdot(x_real) \u001b[38;5;241m+\u001b[39m x_imag\u001b[38;5;241m.\u001b[39mdot(x_imag)\n\u001b[0;32m   2795\u001b[0m \u001b[38;5;28;01melse\u001b[39;00m:\n\u001b[1;32m-> 2796\u001b[0m     sqnorm \u001b[38;5;241m=\u001b[39m x\u001b[38;5;241m.\u001b[39mdot(x)\n\u001b[0;32m   2797\u001b[0m ret \u001b[38;5;241m=\u001b[39m sqrt(sqnorm)\n\u001b[0;32m   2798\u001b[0m \u001b[38;5;28;01mif\u001b[39;00m keepdims:\n",
      "\u001b[1;31mKeyboardInterrupt\u001b[0m: "
     ]
    }
   ],
   "source": [
    "def entrenar_datos(matriz_pesos, periodo, datos, num_datos, num_entradas, learning_rate, vecindario) -> None:\n",
    "    \"\"\"Entrena el mapa de Kohonen con los datos de entrada.\n",
    "\n",
    "    Args:\n",
    "        matriz_pesos: Matriz de pesos de las neuronas del SOM\n",
    "        periodo: Número total de iteraciones del entrenamiento\n",
    "        datos: Datos de entrada (3 x num_datos)\n",
    "        num_datos: Número de datos de entrada\n",
    "        num_entradas: Dimensionalidad de los datos de entrada (3 para RGB)\n",
    "        learning_rate: Tasa de aprendizaje inicial\n",
    "        vecindario: Radio de influencia alrededor de la neurona ganadoras\n",
    "    \"\"\"\n",
    "\n",
    "    # Pintamos la matriz de pesos inicial\n",
    "    pintar_mapa(matriz_pesos, \"Matriz de pesos inicial\")\n",
    "\n",
    "    # Entrenamiento del SOM\n",
    "    for epoca in range(periodo):\n",
    "        # Seleccionamos un patrón de entrada aleatorio\n",
    "        patron_azar = datos[:, np.random.randint(0, num_datos)]\n",
    "\n",
    "        # Buscamos la BMU para el patrón de entrada\n",
    "        neurona_bmu, bmu_indice = calcular_bmu(patron_azar, matriz_pesos, num_entradas)\n",
    "\n",
    "        # Calculamos los parámetros para esta iteración\n",
    "        lr_actual = variacion_learning_rate(learning_rate, epoca, periodo)\n",
    "        vec_actual = variacion_vecindario(vecindario, epoca, periodo)\n",
    "\n",
    "        # Actualizamos el vector de pesos de la BMU y sus vecinos\n",
    "        for fila in range(matriz_pesos.shape[0]):\n",
    "            for columna in range(matriz_pesos.shape[1]):\n",
    "                # Calculamos la distancia a la BMU\n",
    "                distancia_bmu = np.linalg.norm([fila - bmu_indice[0], columna - bmu_indice[1]])\n",
    "\n",
    "                if distancia_bmu <= vec_actual:\n",
    "                    # Calculamos la amortiguación basada en la distancia\n",
    "                    amortiguacion = decay(distancia_bmu, vec_actual)\n",
    "\n",
    "                    # Actualizamos los pesos usando la fórmula\n",
    "                    matriz_pesos[fila, columna] += lr_actual * amortiguacion * (patron_azar - matriz_pesos[fila, columna])\n",
    "\n",
    "        if epoca % 100 == 0 and epoca != 0:\n",
    "            # Pintamos la matriz de pesos\n",
    "            pintar_mapa(matriz_pesos, f\"Iteración: {epoca}\")\n",
    "\n",
    "entrenar_datos(matriz_pesos, periodo, datos, num_datos, num_entradas, learning_rate, vecindario)"
   ]
  },
  {
   "cell_type": "markdown",
   "metadata": {},
   "source": [
    "#### Evaluación de los parámetros"
   ]
  },
  {
   "cell_type": "code",
   "execution_count": 25,
   "metadata": {},
   "outputs": [
    {
     "name": "stdout",
     "output_type": "stream",
     "text": [
      "--- Rangos a evaluar: ---\n",
      "Lados del mapa: [10, 20, 30, 40, 50, 60, 70, 80, 90, 100]\n",
      "Periodos: [1000, 2000, 3000, 4000, 5000, 6000, 7000]\n",
      "Learning rates: [0.1, 0.2, 0.3, 0.4, 0.5, 0.6, 0.7]\n",
      "\n",
      " Vamos a evaluar 490 combinaciones de parámetros...\n",
      "\n",
      "Combinación 1/490\n",
      "Lado: 10, Periodo: 1000, Learning Rate: 0.1\n"
     ]
    },
    {
     "data": {
      "image/png": "[encoded data removed]",
      "text/plain": [
       "<Figure size 640x480 with 1 Axes>"
      ]
     },
     "metadata": {},
     "output_type": "display_data"
    },
    {
     "data": {
      "image/png": "[encoded data removed]",
      "text/plain": [
       "<Figure size 640x480 with 1 Axes>"
      ]
     },
     "metadata": {},
     "output_type": "display_data"
    },
    {
     "data": {
      "image/png": "[encoded data removed]",
      "text/plain": [
       "<Figure size 640x480 with 1 Axes>"
      ]
     },
     "metadata": {},
     "output_type": "display_data"
    },
    {
     "data": {
      "image/png": "[encoded data removed]",
      "text/plain": [
       "<Figure size 640x480 with 1 Axes>"
      ]
     },
     "metadata": {},
     "output_type": "display_data"
    },
    {
     "ename": "KeyboardInterrupt",
     "evalue": "",
     "output_type": "error",
     "traceback": [
      "\u001b[1;31m---------------------------------------------------------------------------\u001b[0m",
      "\u001b[1;31mKeyboardInterrupt\u001b[0m                         Traceback (most recent call last)",
      "Cell \u001b[1;32mIn[25], line 143\u001b[0m\n\u001b[0;32m    140\u001b[0m     plt\u001b[38;5;241m.\u001b[39mshow()\n\u001b[0;32m    142\u001b[0m \u001b[38;5;66;03m# Ejecutar búsqueda de parámetros\u001b[39;00m\n\u001b[1;32m--> 143\u001b[0m mejor_resultado \u001b[38;5;241m=\u001b[39m \u001b[43mevaluar_parametros_som\u001b[49m\u001b[43m(\u001b[49m\u001b[43mdatos\u001b[49m\u001b[43m,\u001b[49m\u001b[43m \u001b[49m\u001b[43mnum_datos\u001b[49m\u001b[43m,\u001b[49m\u001b[43m \u001b[49m\u001b[43mnum_entradas\u001b[49m\u001b[43m)\u001b[49m\n\u001b[0;32m    145\u001b[0m \u001b[38;5;28mprint\u001b[39m(\u001b[38;5;124m\"\u001b[39m\u001b[38;5;130;01m\\n\u001b[39;00m\u001b[38;5;124mMejores parámetros encontrados:\u001b[39m\u001b[38;5;124m\"\u001b[39m)\n\u001b[0;32m    146\u001b[0m \u001b[38;5;28mprint\u001b[39m(\u001b[38;5;124mf\u001b[39m\u001b[38;5;124m\"\u001b[39m\u001b[38;5;124mLado del mapa: \u001b[39m\u001b[38;5;132;01m{\u001b[39;00mmejor_resultado[\u001b[38;5;124m'\u001b[39m\u001b[38;5;124mlado_mapa\u001b[39m\u001b[38;5;124m'\u001b[39m]\u001b[38;5;132;01m}\u001b[39;00m\u001b[38;5;124m\"\u001b[39m)\n",
      "Cell \u001b[1;32mIn[25], line 53\u001b[0m, in \u001b[0;36mevaluar_parametros_som\u001b[1;34m(datos, num_datos, num_entradas)\u001b[0m\n\u001b[0;32m     51\u001b[0m \u001b[38;5;66;03m# Entrenar SOM\u001b[39;00m\n\u001b[0;32m     52\u001b[0m matriz_pesos_final \u001b[38;5;241m=\u001b[39m matriz_pesos\u001b[38;5;241m.\u001b[39mcopy()\n\u001b[1;32m---> 53\u001b[0m \u001b[43mentrenar_datos\u001b[49m\u001b[43m(\u001b[49m\u001b[43mmatriz_pesos_final\u001b[49m\u001b[43m,\u001b[49m\n\u001b[0;32m     54\u001b[0m \u001b[43m                \u001b[49m\u001b[43mperiodo\u001b[49m\u001b[43m,\u001b[49m\n\u001b[0;32m     55\u001b[0m \u001b[43m                \u001b[49m\u001b[43mdatos\u001b[49m\u001b[43m,\u001b[49m\n\u001b[0;32m     56\u001b[0m \u001b[43m                \u001b[49m\u001b[43mnum_datos\u001b[49m\u001b[43m,\u001b[49m\n\u001b[0;32m     57\u001b[0m \u001b[43m                \u001b[49m\u001b[43mnum_entradas\u001b[49m\u001b[43m,\u001b[49m\n\u001b[0;32m     58\u001b[0m \u001b[43m                \u001b[49m\u001b[43mlearning_rate\u001b[49m\u001b[43m,\u001b[49m\n\u001b[0;32m     59\u001b[0m \u001b[43m                \u001b[49m\u001b[43mvecindario\u001b[49m\u001b[43m)\u001b[49m\n\u001b[0;32m     61\u001b[0m \u001b[38;5;66;03m# Calculamos el error medio\u001b[39;00m\n\u001b[0;32m     62\u001b[0m error_total \u001b[38;5;241m=\u001b[39m \u001b[38;5;241m0\u001b[39m\n",
      "Cell \u001b[1;32mIn[19], line 23\u001b[0m, in \u001b[0;36mentrenar_datos\u001b[1;34m(matriz_pesos, periodo, datos, num_datos, num_entradas, learning_rate, vecindario)\u001b[0m\n\u001b[0;32m     20\u001b[0m patron_azar \u001b[38;5;241m=\u001b[39m datos[:, np\u001b[38;5;241m.\u001b[39mrandom\u001b[38;5;241m.\u001b[39mrandint(\u001b[38;5;241m0\u001b[39m, num_datos)]\n\u001b[0;32m     22\u001b[0m \u001b[38;5;66;03m# Buscamos la BMU para el patrón de entrada\u001b[39;00m\n\u001b[1;32m---> 23\u001b[0m neurona_bmu, bmu_indice \u001b[38;5;241m=\u001b[39m \u001b[43mcalcular_bmu\u001b[49m\u001b[43m(\u001b[49m\u001b[43mpatron_azar\u001b[49m\u001b[43m,\u001b[49m\u001b[43m \u001b[49m\u001b[43mmatriz_pesos\u001b[49m\u001b[43m,\u001b[49m\u001b[43m \u001b[49m\u001b[43mnum_entradas\u001b[49m\u001b[43m)\u001b[49m\n\u001b[0;32m     25\u001b[0m \u001b[38;5;66;03m# Calculamos los parámetros para esta iteración\u001b[39;00m\n\u001b[0;32m     26\u001b[0m lr_actual \u001b[38;5;241m=\u001b[39m variacion_learning_rate(learning_rate, epoca, periodo)\n",
      "Cell \u001b[1;32mIn[14], line 27\u001b[0m, in \u001b[0;36mcalcular_bmu\u001b[1;34m(patron_entrada, matriz_pesos, num_entradas)\u001b[0m\n\u001b[0;32m     24\u001b[0m peso_actual \u001b[38;5;241m=\u001b[39m matriz_pesos[fila, columna]\n\u001b[0;32m     26\u001b[0m \u001b[38;5;66;03m# Calculamos la distancia euclídea entre el peso actual y el patrón de entrada\u001b[39;00m\n\u001b[1;32m---> 27\u001b[0m distancia \u001b[38;5;241m=\u001b[39m \u001b[43mnp\u001b[49m\u001b[38;5;241;43m.\u001b[39;49m\u001b[43mlinalg\u001b[49m\u001b[38;5;241;43m.\u001b[39;49m\u001b[43mnorm\u001b[49m\u001b[43m(\u001b[49m\u001b[43mpatron_entrada\u001b[49m\u001b[43m \u001b[49m\u001b[38;5;241;43m-\u001b[39;49m\u001b[43m \u001b[49m\u001b[43mpeso_actual\u001b[49m\u001b[43m)\u001b[49m\n\u001b[0;32m     29\u001b[0m \u001b[38;5;28;01mif\u001b[39;00m distancia \u001b[38;5;241m<\u001b[39m distancia_minima:\n\u001b[0;32m     30\u001b[0m    distancia_minima \u001b[38;5;241m=\u001b[39m distancia\n",
      "File \u001b[1;32mc:\\Users\\rmore\\AppData\\Local\\Programs\\Python\\Python311\\Lib\\site-packages\\numpy\\linalg\\_linalg.py:2796\u001b[0m, in \u001b[0;36mnorm\u001b[1;34m(x, ord, axis, keepdims)\u001b[0m\n\u001b[0;32m   2794\u001b[0m     sqnorm \u001b[38;5;241m=\u001b[39m x_real\u001b[38;5;241m.\u001b[39mdot(x_real) \u001b[38;5;241m+\u001b[39m x_imag\u001b[38;5;241m.\u001b[39mdot(x_imag)\n\u001b[0;32m   2795\u001b[0m \u001b[38;5;28;01melse\u001b[39;00m:\n\u001b[1;32m-> 2796\u001b[0m     sqnorm \u001b[38;5;241m=\u001b[39m x\u001b[38;5;241m.\u001b[39mdot(x)\n\u001b[0;32m   2797\u001b[0m ret \u001b[38;5;241m=\u001b[39m sqrt(sqnorm)\n\u001b[0;32m   2798\u001b[0m \u001b[38;5;28;01mif\u001b[39;00m keepdims:\n",
      "\u001b[1;31mKeyboardInterrupt\u001b[0m: "
     ]
    }
   ],
   "source": [
    "from itertools import product\n",
    "\n",
    "def evaluar_parametros_som(datos, num_datos, num_entradas):\n",
    "    \"\"\"Evalúa diferentes combinaciones de parámetros para encontrar los óptimos\n",
    "    usando rangos automáticos\n",
    "\n",
    "    Args:\n",
    "        datos: Datos de entrada (3 x num_datos)\n",
    "        num_datos: Número de datos de entrada\n",
    "        num_entradas: Dimensionalidad de los datos de entrada (3 para RGB)\n",
    "\n",
    "    Returns:\n",
    "        _type_: _description_\n",
    "    \"\"\"\n",
    "\n",
    "    # Definimos los rangos de parámetors que vamos a evaluar\n",
    "    rangos_parametros = {\n",
    "        'lado_mapa': range(10, 101, 10),                        # De 10 a 100 en pasos de 10\n",
    "        'periodo': range(1000, 7001, 1000),                     # De 1000 a 7000 en pasos de 1000\n",
    "        'learning_rate': [round(x/10, 1) for x in range(1, 8)]  # De 0.1 a 0.7 en pasos de 0.1\n",
    "    }\n",
    "\n",
    "    print(\"--- Rangos a evaluar: ---\")\n",
    "    print(f\"Lados del mapa: {list(rangos_parametros['lado_mapa'])}\")\n",
    "    print(f\"Periodos: {list(rangos_parametros['periodo'])}\")\n",
    "    print(f\"Learning rates: {rangos_parametros['learning_rate']}\")\n",
    "\n",
    "    # Guardamos los resultados\n",
    "    resultados = []\n",
    "\n",
    "    #  Vamos a calcular cuantas combinaciones de parámetros vamos a probar\n",
    "    total_combinaciones = (len(list(rangos_parametros['lado_mapa'])) *\n",
    "                            len(list(rangos_parametros['periodo'])) *\n",
    "                            len(rangos_parametros['learning_rate']))\n",
    "\n",
    "    print(f\"\\n Vamos a evaluar {total_combinaciones} combinaciones de parámetros...\")\n",
    "\n",
    "    # Iteramos sobre todas las combinaciones de parámetros\n",
    "    for indice, (lado, periodo, learning_rate) in enumerate(product(\n",
    "                                                    rangos_parametros['lado_mapa'],\n",
    "                                                    rangos_parametros['periodo'],\n",
    "                                                    rangos_parametros['learning_rate']), 1):\n",
    "\n",
    "        print(f\"\\nCombinación {indice}/{total_combinaciones}\")\n",
    "        print(f\"Lado: {lado}, Periodo: {periodo}, Learning Rate: {learning_rate}\")\n",
    "\n",
    "        # Inicializar matriz de pesos\n",
    "        matriz_pesos = np.random.random((lado, lado, num_entradas))\n",
    "        vecindario = lado // 2\n",
    "\n",
    "        # Entrenar SOM\n",
    "        matriz_pesos_final = matriz_pesos.copy()\n",
    "        entrenar_datos(matriz_pesos_final,\n",
    "                        periodo,\n",
    "                        datos,\n",
    "                        num_datos,\n",
    "                        num_entradas,\n",
    "                        learning_rate,\n",
    "                        vecindario)\n",
    "\n",
    "        # Calculamos el error medio\n",
    "        error_total = 0\n",
    "        for dato in range(num_datos):\n",
    "            patron = datos[:, dato]\n",
    "            _, bmu_idx = calcular_bmu(patron, matriz_pesos_final, num_entradas)\n",
    "            error = np.linalg.norm(patron - matriz_pesos_final[bmu_idx[0], bmu_idx[1]])\n",
    "            error_total += error\n",
    "\n",
    "        error_medio = error_total / num_datos\n",
    "\n",
    "        # Guardar resultados\n",
    "        resultados.append({\n",
    "            'lado_mapa': lado,\n",
    "            'periodo': periodo,\n",
    "            'learning_rate': learning_rate,\n",
    "            'error': error_medio\n",
    "        })\n",
    "\n",
    "        print(f\"Error medio: {error_medio:.6f}\")\n",
    "\n",
    "    # Encontrar mejores parámetros\n",
    "    mejor_resultado = min(resultados, key=lambda x: x['error'])\n",
    "\n",
    "    # Visualizar resultados\n",
    "    visualizar_resultados(resultados)\n",
    "\n",
    "    return mejor_resultado\n",
    "\n",
    "def visualizar_resultados(resultados):\n",
    "    \"\"\"\n",
    "    Visualiza los resultados de la búsqueda de parámetros\n",
    "    \"\"\"\n",
    "    # Convertir a array para fácil manipulación\n",
    "    resultados_array = np.array([(r['lado_mapa'], r['periodo'],\n",
    "                                r['learning_rate'], r['error'])\n",
    "                                for r in resultados])\n",
    "\n",
    "    fig = plt.figure(figsize=(15, 5))\n",
    "\n",
    "    # Gráfico 1: Lado vs Error\n",
    "    ax1 = fig.add_subplot(131)\n",
    "    for lr in np.unique(resultados_array[:, 2]):\n",
    "        mask = resultados_array[:, 2] == lr\n",
    "        ax1.plot(resultados_array[mask, 0],\n",
    "                resultados_array[mask, 3],\n",
    "                'o-',\n",
    "                label=f'LR={lr}')\n",
    "    ax1.set_xlabel('Lado del Mapa')\n",
    "    ax1.set_ylabel('Error')\n",
    "    ax1.legend()\n",
    "    ax1.grid(True)\n",
    "\n",
    "    # Gráfico 2: Periodo vs Error\n",
    "    ax2 = fig.add_subplot(132)\n",
    "    for lr in np.unique(resultados_array[:, 2]):\n",
    "        mask = resultados_array[:, 2] == lr\n",
    "        ax2.plot(resultados_array[mask, 1],\n",
    "                resultados_array[mask, 3],\n",
    "                'o-',\n",
    "                label=f'LR={lr}')\n",
    "    ax2.set_xlabel('Periodo')\n",
    "    ax2.set_ylabel('Error')\n",
    "    ax2.legend()\n",
    "    ax2.grid(True)\n",
    "\n",
    "    # Gráfico 3: Learning Rate vs Error\n",
    "    ax3 = fig.add_subplot(133)\n",
    "    for lado in np.unique(resultados_array[:, 0]):\n",
    "        mask = resultados_array[:, 0] == lado\n",
    "        ax3.plot(resultados_array[mask, 2],\n",
    "                resultados_array[mask, 3],\n",
    "                'o-',\n",
    "                label=f'Lado={int(lado)}')\n",
    "    ax3.set_xlabel('Learning Rate')\n",
    "    ax3.set_ylabel('Error')\n",
    "    ax3.legend()\n",
    "    ax3.grid(True)\n",
    "\n",
    "    plt.tight_layout()\n",
    "    plt.show()\n",
    "\n",
    "# Ejecutar búsqueda de parámetros\n",
    "mejor_resultado = evaluar_parametros_som(datos, num_datos, num_entradas)\n",
    "\n",
    "print(\"\\nMejores parámetros encontrados:\")\n",
    "print(f\"Lado del mapa: {mejor_resultado['lado_mapa']}\")\n",
    "print(f\"Periodo: {mejor_resultado['periodo']}\")\n",
    "print(f\"Learning rate: {mejor_resultado['learning_rate']}\")\n",
    "print(f\"Error: {mejor_resultado['error']:.6f}\")\n",
    "\n",
    "# Guardar los mejores parámetros para su uso posterior\n",
    "parametros_optimos = {\n",
    "    'lado_mapa': mejor_resultado['lado_mapa'],\n",
    "    'periodo': mejor_resultado['periodo'],\n",
    "    'learning_rate': mejor_resultado['learning_rate'],\n",
    "    'vecindario': mejor_resultado['lado_mapa'] // 2\n",
    "}"
   ]
  },
  {
   "cell_type": "markdown",
   "metadata": {},
   "source": [
    "## SOM Clasificación"
   ]
  },
  {
   "cell_type": "code",
   "execution_count": null,
   "metadata": {
    "collapsed": true
   },
   "outputs": [],
   "source": [
    "# Clasifica los patrones de entrenamiento con la matriz de pesos recién entrenada\n"
   ]
  },
  {
   "cell_type": "markdown",
   "metadata": {},
   "source": [
    "## SOM Prueba"
   ]
  },
  {
   "cell_type": "code",
   "execution_count": null,
   "metadata": {
    "collapsed": true
   },
   "outputs": [],
   "source": [
    "# Clasifica nuevos patrones\n",
    "\n"
   ]
  }
 ],
 "metadata": {
  "anaconda-cloud": {},
  "kernelspec": {
   "display_name": "Python 3",
   "language": "python",
   "name": "python3"
  },
  "language_info": {
   "codemirror_mode": {
    "name": "ipython",
    "version": 3
   },
   "file_extension": ".py",
   "mimetype": "text/x-python",
   "name": "python",
   "nbconvert_exporter": "python",
   "pygments_lexer": "ipython3",
   "version": "3.11.6"
  }
 },
 "nbformat": 4,
 "nbformat_minor": 2
}
